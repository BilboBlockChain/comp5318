{
 "cells": [
  {
   "cell_type": "markdown",
   "metadata": {},
   "source": [
    "# COMP5318 - Machine Learning and Data Mining"
   ]
  },
  {
   "cell_type": "markdown",
   "metadata": {},
   "source": [
    "## Tutorial 01 - Introduction to Python"
   ]
  },
  {
   "cell_type": "markdown",
   "metadata": {},
   "source": [
    "**Semester 2, 2019**\n",
    "\n",
    "**Objectives:**\n",
    "\n",
    "* To develop basic Python 3 programming skills.\n",
    "* To become familiar with commonly used Python libraries.\n",
    "* To understand the similarity of Python to other programming languages.\n",
    "\n",
    "\n",
    "**Instructions:**\n",
    "* Exercises to be completed on IPython notebook such as: \n",
    "   * Ipython 3 (Jupyter) notebook installed on your computer http://jupyter.org/install (you need to have Python installed first https://docs.python.org/3/using/index.html )\n",
    "   * Web-based Ipython notebooks such as Google Colaboratory https://colab.research.google.com/ \n",
    "   \n",
    "* If you are using Jupyter intalled on your computer, Go to File->Open. Drag and drop \"lab1.ipynb\" file to the home interface and click upload. \n",
    "* If you are using Google Colaboratory, Click File->Upload notebook, and and upload \"lab1.ipynb\" file\n",
    "* Complete exercises in \"lab1.ipynb\".\n",
    "* To run the cell you can press Ctrl-Enter or hit the Play button at the top.\n",
    "* Complete all exercises marked with **TODO**.\n",
    "* Save your file when you are done with the exercises, so you can show your tutor next week.\n",
    "\n",
    "Lecturers: Nguyen Hoang Tran\n",
    "\n",
    "Tutors: Fengxiang He, Shaojun Zhang, Fangzhou Shi, Yang Lin, Iwan Budiman, Zhiyi Wang, Canh Dinh, Yixuan Zhang, Rui Dong, Haoyu He, Dai Hoang Tran"
   ]
  },
  {
   "cell_type": "markdown",
   "metadata": {},
   "source": [
    "## 1. Printing"
   ]
  },
  {
   "cell_type": "code",
   "execution_count": 1,
   "metadata": {},
   "outputs": [
    {
     "name": "stdout",
     "output_type": "stream",
     "text": [
      "5\n"
     ]
    }
   ],
   "source": [
    "\"\"\"\n",
    "Introduction to Python\n",
    "Tutorial 1\n",
    "\"\"\"\n",
    "\n",
    "print(5) #note for python 2.7 users: use print 5"
   ]
  },
  {
   "cell_type": "code",
   "execution_count": 2,
   "metadata": {},
   "outputs": [
    {
     "name": "stdout",
     "output_type": "stream",
     "text": [
      "1 16 0.0625 text\n"
     ]
    }
   ],
   "source": [
    "print(1, 16, 1/16, 'text') #note for python 2.7 users: 1/16 -> 0 in python 2.7 "
   ]
  },
  {
   "cell_type": "code",
   "execution_count": 3,
   "metadata": {},
   "outputs": [
    {
     "name": "stdout",
     "output_type": "stream",
     "text": [
      "1 divided by 16 is 0.062500\n",
      "1 divided by 16 is 0.06\n",
      "1 divided by 16 is 0.06 and 1 divided by 32 is 0.03\n"
     ]
    }
   ],
   "source": [
    "print( '1 divided by 16 is %f' % (1/16) )\n",
    "print( '1 divided by 16 is %.2f' % (1/16) )\n",
    "print( '1 divided by 16 is %.2f and 1 divided by 32 is %.2f' % (1/16, 1/32) )"
   ]
  },
  {
   "cell_type": "markdown",
   "metadata": {},
   "source": [
    "## 2. Numbers and Variables\n",
    "\n",
    "String, integer, float and bool (logical) variables are ubiquitous data types in Python."
   ]
  },
  {
   "cell_type": "code",
   "execution_count": 4,
   "metadata": {},
   "outputs": [
    {
     "name": "stdout",
     "output_type": "stream",
     "text": [
      "Welcome to COMP5318  is  <class 'str'>\n",
      "10  is  <class 'int'>\n",
      "10.0  is  <class 'float'>\n",
      "True  is  <class 'bool'>\n"
     ]
    }
   ],
   "source": [
    "var1 = 'Welcome to COMP5318' #alternative: you may use double quotation marks as in  \"Welcome to COMP5318\"\n",
    "print(var1, ' is ',type(var1)) \n",
    "\n",
    "var2 = 10\n",
    "print(var2, ' is ',type(var2))\n",
    "\n",
    "var3 = 10.0 #alternative: 10.\n",
    "print(var3, ' is ',type(var3))\n",
    "\n",
    "var4 = True \n",
    "print(var4, ' is ',type(var4))\n"
   ]
  },
  {
   "cell_type": "markdown",
   "metadata": {},
   "source": [
    "## 2. Lists \n",
    "A list is a mutable, i.e. values can be changed (add/delete/update), sequence. Since each element has a fixed position, an index which starts from  0 can be used access elements. Although it can contain any type of variable, using heterogeneous variables is not customary. There are immutable data structures such as \"tuples\" and unordered data structures such as \"sets\" that we do not discuss in this tutorial. "
   ]
  },
  {
   "cell_type": "code",
   "execution_count": 5,
   "metadata": {},
   "outputs": [
    {
     "name": "stdout",
     "output_type": "stream",
     "text": [
      "seq =  [2, 10, 20, 30, 50, 80, 130, 210, 340]\n",
      "seq[0] =  2\n",
      "seq[3] =  30\n",
      "seq[0:3] =  [2, 10, 20]\n",
      "seq[3:6] =  [30, 50, 80]\n",
      "seq[-1] =  340\n",
      "seq[3:-3] =  [30, 50, 80]\n"
     ]
    }
   ],
   "source": [
    "#For students familiar with MATLAB, indexing and length of  arrays can be tricky.\n",
    "\n",
    "seq = [2, 10, 20, 30, 50, 80, 130, 210, 340]\n",
    "\n",
    "print('seq = ', seq)\n",
    "print('seq[0] = ', seq[0])\n",
    "print('seq[3] = ', seq[3])\n",
    "print('seq[0:3] = ', seq[0:3]) #alternative: seq[:3]\n",
    "print('seq[3:6] = ', seq[3:6])\n",
    "print('seq[-1] = ', seq[-1])\n",
    "print('seq[3:-3] = ', seq[3:-3])"
   ]
  },
  {
   "cell_type": "markdown",
   "metadata": {},
   "source": [
    "**Exercise 2.1**\n",
    "\n",
    "Use $len()$ to calculate the length (number of elements) of lists."
   ]
  },
  {
   "cell_type": "markdown",
   "metadata": {},
   "source": [
    "**Exercise 2.2**\n",
    "\n",
    "Use $.append()$ to add an element to the end of a list.\n",
    "\n",
    "For more methods of list objects such as $.sort(), .count(), .reverse()$ refer https://docs.python.org/2/tutorial/datastructures.html.\n",
    "Note that lists can be used as queues with some of these methods."
   ]
  },
  {
   "cell_type": "code",
   "execution_count": 6,
   "metadata": {},
   "outputs": [
    {
     "name": "stdout",
     "output_type": "stream",
     "text": [
      "['Banana', 'Cantaloupe', 'Apple', 'Tomato']\n",
      "['Banana', 'Cantaloupe', 'Apple', 'Papaya', 'Grapes']\n",
      "False\n"
     ]
    }
   ],
   "source": [
    "fruitSalad = ['Banana', 'Cantaloupe', 'Apple', 'Tomato']\n",
    "print(fruitSalad)\n",
    "\n",
    "fruitSalad.remove('Tomato')\n",
    "fruitSalad.append('Papaya')\n",
    "fruitSalad.append('Grapes')\n",
    "print(fruitSalad)\n",
    "\n",
    "print('Strawberry' in fruitSalad)"
   ]
  },
  {
   "cell_type": "markdown",
   "metadata": {},
   "source": [
    "## 4. Arithmetic Operators"
   ]
  },
  {
   "cell_type": "code",
   "execution_count": 7,
   "metadata": {},
   "outputs": [
    {
     "name": "stdout",
     "output_type": "stream",
     "text": [
      "x=10, y=20, z=30\n"
     ]
    }
   ],
   "source": [
    "x = 10\n",
    "y = 20\n",
    "z = x + y\n",
    "print('x=%d, y=%d, z=%d' % (x, y, z)) #alternative for printing: print('x=',x, 'y=',y, 'z=',z)"
   ]
  },
  {
   "cell_type": "markdown",
   "metadata": {},
   "source": [
    "**Exercise 4.1**\n",
    "Identify the use of following arithmetic operators.  $+, -, *, /, \\%, **, // $"
   ]
  },
  {
   "cell_type": "code",
   "execution_count": 8,
   "metadata": {},
   "outputs": [
    {
     "name": "stdout",
     "output_type": "stream",
     "text": [
      "Alan Turing\n"
     ]
    }
   ],
   "source": [
    "#string operations\n",
    "firstName = 'Alan'\n",
    "lastName = 'Turing'\n",
    "fullName = firstName + ' ' + lastName\n",
    "print(fullName) "
   ]
  },
  {
   "cell_type": "markdown",
   "metadata": {},
   "source": [
    "## 5. Relational and Logical Operators\n",
    "\n",
    "Relational operators are used to identify the relationship between two entities (e.g. variables) and the output is either True or False.\n"
   ]
  },
  {
   "cell_type": "code",
   "execution_count": 9,
   "metadata": {},
   "outputs": [
    {
     "name": "stdout",
     "output_type": "stream",
     "text": [
      "True\n"
     ]
    }
   ],
   "source": [
    "print(20>10)"
   ]
  },
  {
   "cell_type": "markdown",
   "metadata": {},
   "source": [
    "**Exercise 5.1**\n",
    "Identify the use of following relational operators.  $==, !=, >, <, >=, <=$"
   ]
  },
  {
   "cell_type": "code",
   "execution_count": 10,
   "metadata": {},
   "outputs": [
    {
     "name": "stdout",
     "output_type": "stream",
     "text": [
      "y is non-positive\n"
     ]
    }
   ],
   "source": [
    "x = 2\n",
    "y= 1.1*(x**2) - 15*x - 20\n",
    "if y>0:      \n",
    "    print('y is positive')\n",
    "else:\n",
    "    print('y is non-positive')"
   ]
  },
  {
   "cell_type": "code",
   "execution_count": 11,
   "metadata": {},
   "outputs": [
    {
     "name": "stdout",
     "output_type": "stream",
     "text": [
      "y is negative\n"
     ]
    }
   ],
   "source": [
    "x = 2\n",
    "y= 1.1*(x**2) - 15*x - 20\n",
    "if y==0:\n",
    "    print('y is zero')\n",
    "elif y>0:\n",
    "    print('y is positive')\n",
    "else:\n",
    "    print('y is negative')"
   ]
  },
  {
   "cell_type": "code",
   "execution_count": 12,
   "metadata": {},
   "outputs": [
    {
     "name": "stdout",
     "output_type": "stream",
     "text": [
      "In range!\n"
     ]
    }
   ],
   "source": [
    "x = 10\n",
    "a, b = -15, 15\n",
    "if x>a and x<b: #alternative: a<x<b\n",
    "    print('In range!')\n",
    "else:\n",
    "    print('Out of range!')"
   ]
  },
  {
   "cell_type": "markdown",
   "metadata": {},
   "source": [
    "**Exercise 5.2**\n",
    "\n",
    "Identify the use of following logical operators: $\\mathrm{and, or}$ and $\\mathrm{ not}$"
   ]
  },
  {
   "cell_type": "markdown",
   "metadata": {},
   "source": [
    "## 6. Math Library \n",
    "\n",
    "This can be considered as the generic library for mathematics in python."
   ]
  },
  {
   "cell_type": "code",
   "execution_count": 13,
   "metadata": {},
   "outputs": [
    {
     "name": "stdout",
     "output_type": "stream",
     "text": [
      "1.0\n"
     ]
    }
   ],
   "source": [
    "import math\n",
    "\n",
    "theta = 2*math.pi\n",
    "y = math.cos(theta)**2 + math.sin(theta)**2\n",
    "print(y)"
   ]
  },
  {
   "cell_type": "markdown",
   "metadata": {},
   "source": [
    "## 7. Iterations"
   ]
  },
  {
   "cell_type": "code",
   "execution_count": 14,
   "metadata": {},
   "outputs": [
    {
     "name": "stdout",
     "output_type": "stream",
     "text": [
      "45\n"
     ]
    }
   ],
   "source": [
    "sum_var = 0\n",
    "for i in range(10): #alternative: range(0,10,1)\n",
    "    sum_var = sum_var + i #: alternative sum_var += i\n",
    "print(sum_var)"
   ]
  },
  {
   "cell_type": "code",
   "execution_count": 15,
   "metadata": {},
   "outputs": [
    {
     "name": "stdout",
     "output_type": "stream",
     "text": [
      "30.5\n"
     ]
    }
   ],
   "source": [
    "x = [10, 20, 30, -35, 5.5]\n",
    "sum_var = 0\n",
    "for i in x:\n",
    "    sum_var = sum_var + i\n",
    "print(sum_var)"
   ]
  },
  {
   "cell_type": "markdown",
   "metadata": {},
   "source": [
    "**Exercise 7.1**\n",
    "Append the above program to add all positive numbers in list x."
   ]
  },
  {
   "cell_type": "code",
   "execution_count": 16,
   "metadata": {},
   "outputs": [
    {
     "name": "stdout",
     "output_type": "stream",
     "text": [
      "[0, 1, 2, 3, 4, 5, 6, 7, 8, 9]\n",
      "[0, 1, 4, 9, 16, 25, 36, 49, 64, 81]\n"
     ]
    }
   ],
   "source": [
    "x = [i for i in range(10)]\n",
    "print(x)\n",
    "\n",
    "y = [i**2 for i in x] # or [i**2 for i in range(10)]\n",
    "print(y)"
   ]
  },
  {
   "cell_type": "markdown",
   "metadata": {},
   "source": [
    "**Exercise 7.2**\n",
    "Let $\\mathbf{x} = [3, 1, 2, 4]$ and $\\mathbf{y} = [1, 2, 1, 2]$. Calculate the similarity between $\\mathbf{x}$ and $\\mathbf{y}$ using,\n",
    "\n",
    "1) Cosine similarity defined as $\\mathsf{sim}_{dot}(\\mathbf{x,y})  = \\mathbf{x \\cdot y/||x|| ||y||}$\n",
    "\n",
    "2) Eucledian distance (a.k.a $\\mathsf{L}^2$ distance) defined as $\\mathsf{sim}_{Euc}(\\mathbf{x,y})  = \\| \\mathbf{x} - \\mathbf{y}\\|_2 = \\sqrt{\\sum_{i=1}^{N} ( x_i - y_i)^2}$\n",
    "\n",
    "(Refer lecture 1)."
   ]
  },
  {
   "cell_type": "code",
   "execution_count": 17,
   "metadata": {},
   "outputs": [
    {
     "name": "stdout",
     "output_type": "stream",
     "text": [
      "sim_cos = 0.866\n",
      "sim_euc = 3.162\n"
     ]
    }
   ],
   "source": [
    "import math\n",
    "x=[3,1,2,4]\n",
    "y=[1,2,1,2]\n",
    "\n",
    "def dot(x,y):\n",
    "    #return sum(map(operator.mul, x, y))\n",
    "    return sum([ xi*yi for xi, yi in zip(x,y)])\n",
    "\n",
    "sim_cos = dot(x,y) / math.sqrt(dot(x,x) * dot(y,y))\n",
    "sim_euc = math.sqrt(sum([(xi - yi) ** 2 for xi, yi in zip(x,y)]))\n",
    "\n",
    "print('sim_cos = {:.3f}'.format(sim_cos)) #alternative to print('sim_cos = %.3f' % sim_cos)\n",
    "print('sim_euc = {:.3f}'.format(sim_euc))"
   ]
  },
  {
   "cell_type": "markdown",
   "metadata": {},
   "source": [
    "## 8. Plotting with Matplotlib Library"
   ]
  },
  {
   "cell_type": "code",
   "execution_count": 18,
   "metadata": {},
   "outputs": [
    {
     "data": {
      "image/png": "[encoded data removed]",
      "text/plain": [
       "<Figure size 432x288 with 1 Axes>"
      ]
     },
     "metadata": {
      "needs_background": "light"
     },
     "output_type": "display_data"
    }
   ],
   "source": [
    "import math\n",
    "import matplotlib.pyplot as pl\n",
    "%matplotlib inline \n",
    "\n",
    "t = [i/50 for i in range(501)] #generate values from 0 to 10\n",
    "f = 1 \n",
    "y = [math.sin(2*math.pi*f*i)*math.exp(-0.5*i) for i in t] # y = sin(2Pi*f*t)*exp(-t/2)\n",
    "#pl.plot(t,y)\n",
    "pl.scatter(t,y, c=['b' if -0.5<i<0.5 else 'r' for i in y]) #answer for 8.2\n",
    "pl.title('Damped Sine Wave with %.1f Hz frequency' % f)\n",
    "pl.xlabel('t (s)')\n",
    "pl.ylabel('y')\n",
    "pl.grid()\n",
    "pl.show()"
   ]
  },
  {
   "cell_type": "markdown",
   "metadata": {},
   "source": [
    "**Exercise 8.1**\n",
    "Change *pl.scatter* to *pl.plot*."
   ]
  },
  {
   "cell_type": "markdown",
   "metadata": {},
   "source": [
    "**Exercise 8.2**\n",
    "Highlight data points, s.t. $|y|>0.5$ in a different marker colour."
   ]
  },
  {
   "cell_type": "markdown",
   "metadata": {},
   "source": [
    "## 9. Data Structures"
   ]
  },
  {
   "cell_type": "markdown",
   "metadata": {},
   "source": [
    "**Exercise 9.1** (Demanding question)\n",
    "Given a list of words, group all of them based on the following similarity metric.\n",
    "\n",
    "\n",
    "\\begin{equation}   \n",
    "  \\mathsf{sim(word_1, word_2)} = \\left\\{\n",
    "  \\begin{array}{@{}ll@{}}\n",
    "    1, & \\text{if letters in only } \\mathsf{word_1} \\text{ are used to form } \\mathsf{ word_2 } \\text{ and vice versa } \\textit{(iff)}\\\\\n",
    "    0, & \\text{otherwise}\n",
    "  \\end{array}\\right.\n",
    "\\end{equation}\n",
    "\n",
    "E.g. 'arts', 'rats', 'star', 'tars' and 'start' are similar words.\n",
    "\n",
    "Choose an appropriate data structure and analyze computational complexity of your algorithm."
   ]
  },
  {
   "cell_type": "code",
   "execution_count": 19,
   "metadata": {},
   "outputs": [
    {
     "name": "stdout",
     "output_type": "stream",
     "text": [
      "group 0 is arst : ['arts', 'rats', 'star', 'tars', 'start']\n",
      "group 1 is apt : ['pat', 'apt', 'tap']\n",
      "group 2 is aeglry : ['allergy', 'largely', 'regally', 'gallery']\n",
      "group 3 is aeglr : ['lager']\n",
      "group 4 is eoprst : ['potters']\n",
      "group 5 is belstu : ['bluest', 'bluets', 'bustle', 'sublet', 'subtle']\n",
      "group 6 is acdert : ['retraced']\n",
      "group 7 is abgr : ['grab']\n"
     ]
    }
   ],
   "source": [
    "word_list = ['arts', 'rats', 'star', 'tars', 'start', 'pat', 'allergy', 'lager', 'largely', 'regally', 'apt', \\\n",
    "             'potters', 'tap', 'bluest', 'tap', 'bluets', 'retraced', 'gallery','bustle', 'sublet', 'subtle', 'grab']\n",
    "\n",
    "###########################\n",
    "#Proposed solution 1 (NOT AVAILABLE TO STUDENTS DURING THE TUTORIAL)\n",
    "def update_dict(d, key, value):\n",
    "    if key in d.keys(): #alternative: dict.has_key(key) TODO: - any idea which one is efficient??\n",
    "        if value not in d[key]: #avoid duplicating\n",
    "            d[key].append(value)\n",
    "    else:\n",
    "        d[key] = [value]\n",
    "            \n",
    "d = {}\n",
    "for value in word_list:\n",
    "    key = list(set(list(value)))\n",
    "    key.sort()\n",
    "    key = ''.join(key)\n",
    "    update_dict(d, key, value)\n",
    "    \n",
    "#print(d)\n",
    "for i, key in enumerate(d.keys()):\n",
    "    print('group %d is' %i, key, ':', d[key])\n",
    "\n",
    "#Note: Keys in a dictionary are immutable \n",
    "#Note: If the word list is a big dataset, size of the dictionary (number of keys) is enormous (< 1 million entries). "
   ]
  },
  {
   "cell_type": "markdown",
   "metadata": {},
   "source": [
    "Notes: Additionally, read about anagram, regular expressions, grep command and Jaccard similarity"
   ]
  },
  {
   "cell_type": "markdown",
   "metadata": {},
   "source": [
    "Python:\n",
    "* object-oriented\n",
    "* dynamically typed\n",
    "* interpeted (not compiled)\n",
    "* functional programming is possible with map(), reduce(), etc."
   ]
  },
  {
   "cell_type": "markdown",
   "metadata": {},
   "source": [
    "## Next week\n",
    "\n",
    "* Why generic python lists are less suitable for linear algebraic calculations?\n",
    "* Introduction to numpy and scipy libraries.\n",
    "* Matrix decomposition"
   ]
  }
 ],
 "metadata": {
  "kernelspec": {
   "display_name": "Python 3",
   "language": "python",
   "name": "python3"
  },
  "language_info": {
   "codemirror_mode": {
    "name": "ipython",
    "version": 3
   },
   "file_extension": ".py",
   "mimetype": "text/x-python",
   "name": "python",
   "nbconvert_exporter": "python",
   "pygments_lexer": "ipython3",
   "version": "3.7.3"
  }
 },
 "nbformat": 4,
 "nbformat_minor": 1
}
