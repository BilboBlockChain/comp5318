{
 "cells": [
  {
   "cell_type": "markdown",
   "metadata": {
    "colab_type": "text",
    "id": "Wodw1088TrSa"
   },
   "source": [
    "# COMP5318 - Machine Learning and Data Mining"
   ]
  },
  {
   "cell_type": "markdown",
   "metadata": {
    "colab_type": "text",
    "id": "8ec43_94TrSd"
   },
   "source": [
    "## Tutorial 01 - Introduction to Python"
   ]
  },
  {
   "cell_type": "markdown",
   "metadata": {
    "colab_type": "text",
    "id": "jEdRg2oRTrSe"
   },
   "source": [
    "**Semester 2, 2019**\n",
    "\n",
    "**Objectives:**\n",
    "\n",
    "* To develop basic Python 3 programming skills.\n",
    "* To become familiar with commonly used Python libraries.\n",
    "* To understand the similarity of Python to other programming languages.\n",
    "\n",
    "\n",
    "**Instructions:**\n",
    "* Exercises to be completed on IPython notebook such as: \n",
    "   * Ipython 3 (Jupyter) notebook installed on your computer http://jupyter.org/install (you need to have Python installed first https://docs.python.org/3/using/index.html )\n",
    "   * Web-based Ipython notebooks such as Google Colaboratory https://colab.research.google.com/ \n",
    "   \n",
    "* If you are using Jupyter intalled on your computer, Go to File->Open. Drag and drop \"lab1.ipynb\" file to the home interface and click upload. \n",
    "* If you are using Google Colaboratory, Click File->Upload notebook, and and upload \"lab1.ipynb\" file\n",
    "* Complete exercises in \"lab1.ipynb\".\n",
    "* To run the cell you can press Ctrl-Enter or hit the Play button at the top.\n",
    "* Complete all exercises marked with **TODO**.\n",
    "* Save your file when you are done with the exercises, so you can show your tutor next week.\n",
    "\n",
    "Lecturers: Nguyen Hoang Tran \n",
    "\n",
    "Tutors: Fengxiang He, Shaojun Zhang, Fangzhou Shi, Yang Lin, Iwan Budiman, Zhiyi Wang, Canh Dinh, Yixuan Zhang, Rui Dong, Haoyu He, Dai Hoang Tran"
   ]
  },
  {
   "cell_type": "markdown",
   "metadata": {
    "colab_type": "text",
    "id": "cKSnaUGVTrSg"
   },
   "source": [
    "## 1. Printing"
   ]
  },
  {
   "cell_type": "code",
   "execution_count": 1,
   "metadata": {
    "colab": {
     "base_uri": "https://localhost:8080/",
     "height": 72
    },
    "colab_type": "code",
    "id": "ma9mbUN0TrSh",
    "outputId": "f4896ebf-ca61-4615-d410-b5e04880d25e"
   },
   "outputs": [
    {
     "name": "stdout",
     "output_type": "stream",
     "text": [
      "5\n",
      "{'apple': 10, 'pear': 20, 'orange': 10, 'berry': 'sold out', 'banana': 30}\n",
      "{10, 20, 'sold out', 30}\n"
     ]
    }
   ],
   "source": [
    "\"\"\"\n",
    "Introduction to Python\n",
    "Tutorial 1\n",
    "\"\"\"\n",
    "\n",
    "print(5) #note for python 2.7 users: use print 5\n",
    "\n",
    "d = {'apple':10, 'pear':20,'orange':10, 'berry': 'sold out'}\n",
    "d['banana'] = 30\n",
    "print(d)\n",
    "values = set([d[key] for key in d.keys()])\n",
    "print(values)\n",
    "\n",
    "# use %debug to see which lines of chunk cause errors ONLY WORKS after error\n",
    "#exit debug using exit command\n",
    "# use control and slash together to comment out multiple lines"
   ]
  },
  {
   "cell_type": "code",
   "execution_count": 2,
   "metadata": {
    "colab": {
     "base_uri": "https://localhost:8080/",
     "height": 35
    },
    "colab_type": "code",
    "id": "gsWrrv8BTrSn",
    "outputId": "bee4fdc4-a8cc-4757-bc50-a30fc0f45004"
   },
   "outputs": [
    {
     "name": "stdout",
     "output_type": "stream",
     "text": [
      "1 16 0.0625 text\n"
     ]
    }
   ],
   "source": [
    "print(1, 16, 1/16, 'text') #note for python 2.7 users: 1/16 -> 0 in python 2.7 "
   ]
  },
  {
   "cell_type": "code",
   "execution_count": 3,
   "metadata": {
    "colab": {
     "base_uri": "https://localhost:8080/",
     "height": 72
    },
    "colab_type": "code",
    "id": "MN_qkWReTrSr",
    "outputId": "ea539f23-f5be-40f7-962e-85c361465da2"
   },
   "outputs": [
    {
     "name": "stdout",
     "output_type": "stream",
     "text": [
      "1 divided by 16 is 0.062500\n",
      "1 divided by 16 is 0.06\n",
      "1 divided by 16 is 0.06 and 1 divided by 32 is 0.03\n"
     ]
    }
   ],
   "source": [
    "print( '1 divided by 16 is %f' % (1/16) )\n",
    "print( '1 divided by 16 is %.2f' % (1/16) )\n",
    "print( '1 divided by 16 is %.2f and 1 divided by 32 is %.2f' % (1/16, 1/32) )"
   ]
  },
  {
   "cell_type": "markdown",
   "metadata": {
    "colab_type": "text",
    "id": "114F6shgTrSu"
   },
   "source": [
    "## 2. Numbers and Variables\n",
    "\n",
    "String, integer, float and bool (logical) variables are ubiquitous data types in Python."
   ]
  },
  {
   "cell_type": "code",
   "execution_count": 4,
   "metadata": {
    "colab": {
     "base_uri": "https://localhost:8080/",
     "height": 90
    },
    "colab_type": "code",
    "id": "J6uiBwquTrSv",
    "outputId": "5af05e80-e79e-4424-f1a8-ff911f7020bb"
   },
   "outputs": [
    {
     "name": "stdout",
     "output_type": "stream",
     "text": [
      "Welcome to COMP5318  is  <class 'str'>\n",
      "10  is  <class 'int'>\n",
      "10.0  is  <class 'float'>\n",
      "True  is  <class 'bool'>\n"
     ]
    }
   ],
   "source": [
    "var1 = 'Welcome to COMP5318' #alternative: you may use double quotation marks as in  \"Welcome to COMP5318\"\n",
    "print(var1, ' is ',type(var1)) \n",
    "\n",
    "var2 = 10\n",
    "print(var2, ' is ',type(var2))\n",
    "\n",
    "var3 = 10.0 #alternative: 10.\n",
    "print(var3, ' is ',type(var3))\n",
    "\n",
    "var4 = True \n",
    "print(var4, ' is ',type(var4))\n"
   ]
  },
  {
   "cell_type": "markdown",
   "metadata": {
    "colab_type": "text",
    "id": "yMWv-I_tTrS0"
   },
   "source": [
    "## 2. Lists \n",
    "A list is a mutable, i.e. values can be changed (add/delete/update), sequence. Since each element has a fixed position, an index which starts from  0 can be used access elements. Although it can contain any type of variable, using heterogeneous variables is not customary. There are immutable data structures such as \"tuples\" and unordered data structures such as \"sets\" that we do not discuss in this tutorial. "
   ]
  },
  {
   "cell_type": "code",
   "execution_count": 5,
   "metadata": {
    "colab": {
     "base_uri": "https://localhost:8080/",
     "height": 145
    },
    "colab_type": "code",
    "id": "wNzZ80dlTrS1",
    "outputId": "3089d69f-0f4e-4a4c-a6f2-96ff6d4f76b7"
   },
   "outputs": [
    {
     "name": "stdout",
     "output_type": "stream",
     "text": [
      "seq =  [2, 10, 20, 30, 50, 80, 130, 210, 340]\n",
      "seq[0] =  2\n",
      "seq[3] =  30\n",
      "seq[0:3] =  [2, 10, 20]\n",
      "seq[3:6] =  [30, 50, 80]\n",
      "seq[-1] =  340\n",
      "seq[3:-3] =  [30, 50, 80]\n"
     ]
    }
   ],
   "source": [
    "#For students familiar with MATLAB, indexing and length of  arrays can be tricky.\n",
    "\n",
    "seq = [2, 10, 20, 30, 50, 80, 130, 210, 340]\n",
    "\n",
    "print('seq = ', seq)\n",
    "print('seq[0] = ', seq[0])\n",
    "print('seq[3] = ', seq[3])\n",
    "print('seq[0:3] = ', seq[0:3]) #alternative: seq[:3]\n",
    "print('seq[3:6] = ', seq[3:6])\n",
    "print('seq[-1] = ', seq[-1])\n",
    "print('seq[3:-3] = ', seq[3:-3])"
   ]
  },
  {
   "cell_type": "markdown",
   "metadata": {
    "colab_type": "text",
    "id": "3eDT1hM5TrS7"
   },
   "source": [
    "**Exercise 2.1**\n",
    "\n",
    "Use $len()$ to calculate the length (number of elements) of lists."
   ]
  },
  {
   "cell_type": "code",
   "execution_count": 6,
   "metadata": {
    "colab": {
     "base_uri": "https://localhost:8080/",
     "height": 35
    },
    "colab_type": "code",
    "id": "u14ILGfPURcV",
    "outputId": "80f9c1e5-4bdc-431b-ae05-725cc21926d0"
   },
   "outputs": [
    {
     "data": {
      "text/plain": [
       "1"
      ]
     },
     "execution_count": 6,
     "metadata": {},
     "output_type": "execute_result"
    }
   ],
   "source": [
    "#calculate lenghts of lists\n",
    "len(seq)\n",
    "len(seq[0:])\n",
    "len(seq[5:6])"
   ]
  },
  {
   "cell_type": "markdown",
   "metadata": {
    "colab_type": "text",
    "id": "qnzzpnZiTrS9"
   },
   "source": [
    "**Exercise 2.2**\n",
    "\n",
    "Use $.append()$ to add an element to the end of a list.\n",
    "\n",
    "For more methods of list objects such as $.sort(), .count(), .reverse()$ refer https://docs.python.org/2/tutorial/datastructures.html.\n",
    "Note that lists can be used as queues with some of these methods."
   ]
  },
  {
   "cell_type": "code",
   "execution_count": 7,
   "metadata": {
    "colab": {
     "base_uri": "https://localhost:8080/",
     "height": 35
    },
    "colab_type": "code",
    "id": "EEaRwu3MUk30",
    "outputId": "28090b3d-49f3-4ecc-e775-973dc6d3d510"
   },
   "outputs": [
    {
     "name": "stdout",
     "output_type": "stream",
     "text": [
      "[0, 4, 7, 'high', 'more words']\n"
     ]
    }
   ],
   "source": [
    "original_list = [0,4,7,'high']\n",
    "original_list\n",
    "\n",
    "original_list.append('more words')\n",
    "\n",
    "print(original_list)"
   ]
  },
  {
   "cell_type": "code",
   "execution_count": 8,
   "metadata": {
    "colab": {
     "base_uri": "https://localhost:8080/",
     "height": 72
    },
    "colab_type": "code",
    "id": "xfl03TVvTrS-",
    "outputId": "bdf933e0-e896-47e5-fd43-781f76ed3666"
   },
   "outputs": [
    {
     "name": "stdout",
     "output_type": "stream",
     "text": [
      "['Banana', 'Cantaloupe', 'Apple', 'Tomato']\n",
      "['Banana', 'Cantaloupe', 'Apple', 'Papaya', 'Grapes']\n",
      "False\n"
     ]
    }
   ],
   "source": [
    "fruitSalad = ['Banana', 'Cantaloupe', 'Apple', 'Tomato']\n",
    "print(fruitSalad)\n",
    "\n",
    "fruitSalad.remove('Tomato')\n",
    "fruitSalad.append('Papaya')\n",
    "fruitSalad.append('Grapes')\n",
    "print(fruitSalad)\n",
    "\n",
    "print('Strawberry' in fruitSalad)"
   ]
  },
  {
   "cell_type": "markdown",
   "metadata": {
    "colab_type": "text",
    "id": "OHIqhiXtTrTB"
   },
   "source": [
    "## 4. Arithmetic Operators"
   ]
  },
  {
   "cell_type": "code",
   "execution_count": 9,
   "metadata": {
    "colab": {
     "base_uri": "https://localhost:8080/",
     "height": 35
    },
    "colab_type": "code",
    "id": "_qEtkvvBTrTC",
    "outputId": "9ddb1284-a6c8-4e90-8d11-12c240e63c0e"
   },
   "outputs": [
    {
     "name": "stdout",
     "output_type": "stream",
     "text": [
      "x=10, y=20, z=30\n"
     ]
    }
   ],
   "source": [
    "x = 10\n",
    "y = 20\n",
    "z = x + y\n",
    "print('x=%d, y=%d, z=%d' % (x, y, z)) #alternative for printing: print('x=',x, 'y=',y, 'z=',z)"
   ]
  },
  {
   "cell_type": "markdown",
   "metadata": {
    "colab_type": "text",
    "id": "tjmRyTZOTrTG"
   },
   "source": [
    "**Exercise 4.1**\n",
    "Identify the use of following arithmetic operators.  $+, -, *, /, \\%, **, // $"
   ]
  },
  {
   "cell_type": "code",
   "execution_count": 10,
   "metadata": {
    "colab": {
     "base_uri": "https://localhost:8080/",
     "height": 163
    },
    "colab_type": "code",
    "id": "ZRp3TedmVbDE",
    "outputId": "496d70d0-4f92-4f49-980c-c7532ff3feb6"
   },
   "outputs": [
    {
     "name": "stdout",
     "output_type": "stream",
     "text": [
      "30\n",
      "-10\n",
      "200\n",
      "0.5\n",
      "x to the power of 2 equals 100.000000\n",
      "10\n",
      "3\n",
      "3.3333333333333335\n"
     ]
    }
   ],
   "source": [
    "#plus\n",
    "print(x + y)\n",
    "#minus \n",
    "print(x - y)\n",
    "#multiply\n",
    "print(x * y)\n",
    "#divide \n",
    "print(x / y)\n",
    "\n",
    "#indices\n",
    "print('x to the power of 2 equals %f' % (x**2))\n",
    "x**y\n",
    "#modulo\n",
    "print(z % y)\n",
    "\n",
    "#integer divison vs floating point div\n",
    "print(10//3)\n",
    "print(10/3)"
   ]
  },
  {
   "cell_type": "code",
   "execution_count": 11,
   "metadata": {
    "colab": {
     "base_uri": "https://localhost:8080/",
     "height": 35
    },
    "colab_type": "code",
    "id": "HJYwEkBpTrTH",
    "outputId": "d432730c-9c42-4f60-cadb-c7a4c14bc647"
   },
   "outputs": [
    {
     "name": "stdout",
     "output_type": "stream",
     "text": [
      "Alan Turing\n"
     ]
    }
   ],
   "source": [
    "#string operations\n",
    "firstName = 'Alan'\n",
    "lastName = 'Turing'\n",
    "fullName = firstName + ' ' + lastName\n",
    "print(fullName) "
   ]
  },
  {
   "cell_type": "markdown",
   "metadata": {
    "colab_type": "text",
    "id": "fn_5Xu2lTrTK"
   },
   "source": [
    "## 5. Relational and Logical Operators\n",
    "\n",
    "Relational operators are used to identify the relationship between two entities (e.g. variables) and the output is either True or False.\n"
   ]
  },
  {
   "cell_type": "code",
   "execution_count": 12,
   "metadata": {
    "colab": {
     "base_uri": "https://localhost:8080/",
     "height": 35
    },
    "colab_type": "code",
    "id": "XQPFtYakTrTM",
    "outputId": "1d9091b8-79a6-49b3-e837-fe9ef7833f8a"
   },
   "outputs": [
    {
     "name": "stdout",
     "output_type": "stream",
     "text": [
      "True\n"
     ]
    }
   ],
   "source": [
    "print(20>10)"
   ]
  },
  {
   "cell_type": "markdown",
   "metadata": {
    "colab_type": "text",
    "id": "itoMjJr7TrTO"
   },
   "source": [
    "**Exercise 5.1**\n",
    "Identify the use of following relational operators.  $==, !=, >, <, >=, <=$"
   ]
  },
  {
   "cell_type": "code",
   "execution_count": 13,
   "metadata": {
    "colab": {},
    "colab_type": "code",
    "id": "lvlnNOWUWP5V"
   },
   "outputs": [
    {
     "name": "stdout",
     "output_type": "stream",
     "text": [
      "True\n"
     ]
    }
   ],
   "source": [
    "#equal\n",
    "print(x == x)\n",
    "#not equal\n"
   ]
  },
  {
   "cell_type": "code",
   "execution_count": 14,
   "metadata": {
    "colab": {},
    "colab_type": "code",
    "id": "2zb0RDwsTrTP"
   },
   "outputs": [
    {
     "name": "stdout",
     "output_type": "stream",
     "text": [
      "y is non-positive\n"
     ]
    }
   ],
   "source": [
    "x = 2\n",
    "y= 1.1*(x**2) - 15*x - 20\n",
    "if y>0:      \n",
    "    print('y is positive')\n",
    "else:\n",
    "    print('y is non-positive')"
   ]
  },
  {
   "cell_type": "code",
   "execution_count": 15,
   "metadata": {
    "colab": {},
    "colab_type": "code",
    "id": "GbN_73YFTrTS"
   },
   "outputs": [
    {
     "name": "stdout",
     "output_type": "stream",
     "text": [
      "y is negative\n"
     ]
    }
   ],
   "source": [
    "x = 2\n",
    "y= 1.1*(x**2) - 15*x - 20\n",
    "if y==0:\n",
    "    print('y is zero')\n",
    "elif y>0:\n",
    "    print('y is positive')\n",
    "else:\n",
    "    print('y is negative')"
   ]
  },
  {
   "cell_type": "code",
   "execution_count": 16,
   "metadata": {
    "colab": {},
    "colab_type": "code",
    "id": "sUEwDXuDTrTU"
   },
   "outputs": [
    {
     "name": "stdout",
     "output_type": "stream",
     "text": [
      "In range!\n"
     ]
    }
   ],
   "source": [
    "x = 10\n",
    "a, b = -15, 15\n",
    "if x>a and x<b: #alternative: a<x<b\n",
    "    print('In range!')\n",
    "else:\n",
    "    print('Out of range!')"
   ]
  },
  {
   "cell_type": "markdown",
   "metadata": {
    "colab_type": "text",
    "id": "ISfQWYywTrTY"
   },
   "source": [
    "**Exercise 5.2**\n",
    "\n",
    "Identify the use of following logical operators: $\\mathrm{and, or}$ and $\\mathrm{ not}$"
   ]
  },
  {
   "cell_type": "markdown",
   "metadata": {
    "colab_type": "text",
    "id": "NWcCEkOVTrTZ"
   },
   "source": [
    "## 6. Math Library \n",
    "\n",
    "This can be considered as the generic library for mathematics in python."
   ]
  },
  {
   "cell_type": "code",
   "execution_count": 17,
   "metadata": {
    "colab": {
     "base_uri": "https://localhost:8080/",
     "height": 35
    },
    "colab_type": "code",
    "id": "rV8VMp1gTrTb",
    "outputId": "89174ca9-f6aa-4cab-c20f-ec5a0701a9f2"
   },
   "outputs": [
    {
     "name": "stdout",
     "output_type": "stream",
     "text": [
      "1.0\n"
     ]
    }
   ],
   "source": [
    "import math\n",
    "\n",
    "theta = 2*math.pi\n",
    "y = math.cos(theta)**2 + math.sin(theta)**2\n",
    "print(y)\n",
    "\n",
    "#use tab to autocomplete\n",
    "#math.a will add further suggestions"
   ]
  },
  {
   "cell_type": "markdown",
   "metadata": {
    "colab_type": "text",
    "id": "cTISUgO-TrTe"
   },
   "source": [
    "## 7. Iterations"
   ]
  },
  {
   "cell_type": "code",
   "execution_count": 18,
   "metadata": {
    "colab": {},
    "colab_type": "code",
    "id": "HcBApqM7TrTf"
   },
   "outputs": [
    {
     "name": "stdout",
     "output_type": "stream",
     "text": [
      "45\n"
     ]
    }
   ],
   "source": [
    "sum_var = 0\n",
    "for i in range(10): #alternative: range(0,10,1)\n",
    "    sum_var = sum_var + i #: alternative sum_var += i\n",
    "print(sum_var)"
   ]
  },
  {
   "cell_type": "code",
   "execution_count": 19,
   "metadata": {
    "colab": {
     "base_uri": "https://localhost:8080/",
     "height": 54
    },
    "colab_type": "code",
    "id": "Yz_DfOZ7TrTi",
    "outputId": "a6aa60f6-c849-4487-b0f6-58218c6fb1e6"
   },
   "outputs": [
    {
     "name": "stdout",
     "output_type": "stream",
     "text": [
      "30.5\n",
      "60\n"
     ]
    }
   ],
   "source": [
    "x = [10, 20, 30, -35, 5.5]\n",
    "sum_var = 0\n",
    "for i in x:\n",
    "    sum_var = sum_var + i\n",
    "print(sum_var)\n",
    "\n",
    "x = [10, 20, 30, -35, 5.5]\n",
    "sum_var = 0\n",
    "for i in x:\n",
    "    if i % 2 == 0:\n",
    "      sum_var = sum_var + i\n",
    "print(sum_var)"
   ]
  },
  {
   "cell_type": "markdown",
   "metadata": {
    "colab_type": "text",
    "id": "uOVVh1P4TrTk"
   },
   "source": [
    "**Exercise 7.1**\n",
    "Append the above program to add all positive numbers in list x."
   ]
  },
  {
   "cell_type": "code",
   "execution_count": 20,
   "metadata": {
    "colab": {
     "base_uri": "https://localhost:8080/",
     "height": 54
    },
    "colab_type": "code",
    "id": "Fr35IpUxTrTl",
    "outputId": "4ee7f46e-5e1a-4cd2-9808-f780a7d7ba81"
   },
   "outputs": [
    {
     "name": "stdout",
     "output_type": "stream",
     "text": [
      "[0, 1, 2, 3, 4, 5, 6, 7, 8, 9]\n",
      "[0, 1, 4, 9, 16, 25, 36, 49, 64, 81]\n"
     ]
    }
   ],
   "source": [
    "x = [i for i in range(10)]\n",
    "print(x)\n",
    "\n",
    "y = [i**2 for i in x] # or [i**2 for i in range(10)]\n",
    "print(y)"
   ]
  },
  {
   "cell_type": "markdown",
   "metadata": {
    "colab_type": "text",
    "id": "R0KD7XL9TrTn"
   },
   "source": [
    "**Exercise 7.2**\n",
    "Let $\\mathbf{x} = [3, 1, 2, 4]$ and $\\mathbf{y} = [1, 2, 1, 2]$. Calculate the similarity between $\\mathbf{x}$ and $\\mathbf{y}$ using,\n",
    "\n",
    "1) Cosine similarity defined as $\\mathsf{sim}_{dot}(\\mathbf{x,y})  = \\mathbf{x \\cdot y/||x|| ||y||}$\n",
    "\n",
    "2) Eucledian distance (a.k.a $\\mathsf{L}^2$ distance) defined as $\\mathsf{sim}_{Euc}(\\mathbf{x,y})  = \\| \\mathbf{x} - \\mathbf{y}\\|_2 = \\sqrt{\\sum_{i=1}^{N} ( x_i - y_i)^2}$\n",
    "\n",
    "(Refer to lecture 1)."
   ]
  },
  {
   "cell_type": "code",
   "execution_count": 21,
   "metadata": {
    "colab": {
     "base_uri": "https://localhost:8080/",
     "height": 54
    },
    "colab_type": "code",
    "id": "TLVjP0B8TrTo",
    "outputId": "fb1af139-3e6b-4498-f66f-9124deddd5ad"
   },
   "outputs": [
    {
     "name": "stdout",
     "output_type": "stream",
     "text": [
      "0.8660254037844386\n",
      "3.1622776601683795\n"
     ]
    }
   ],
   "source": [
    "x = [3,1,2,4]\n",
    "y = [1,2,1,2]\n",
    "\n",
    "#cosine similarity\n",
    "matmul = []\n",
    "sq_x = []\n",
    "sq_y = []\n",
    "for i in range(len(x)):\n",
    "  matmul.append(x[i] * y[i])\n",
    "  sq_x.append(x[i]**2)\n",
    "  sq_y.append(y[i]**2)\n",
    "  \n",
    "  \n",
    "sum_mat = sum(matmul)\n",
    "sum_x = sum(sq_x)\n",
    "sum_y = sum(sq_y)\n",
    "\n",
    "print(sum_mat/(((sum_x)**0.5) * ((sum_y)**0.5)))\n",
    "\n",
    "\n",
    "\n",
    "#eucledian distance\n",
    "minus = []\n",
    "for i in range(len(x)):\n",
    "  minus.append((x[i] - y[i])**2)\n",
    "sum_all = sum(minus)\n",
    "print((sum_all)**0.5)\n",
    "\n",
    "\n"
   ]
  },
  {
   "cell_type": "markdown",
   "metadata": {
    "colab_type": "text",
    "id": "4pXAZ10gTrTr"
   },
   "source": [
    "## 8. Plotting with Matplotlib Library"
   ]
  },
  {
   "cell_type": "code",
   "execution_count": 22,
   "metadata": {
    "colab": {
     "base_uri": "https://localhost:8080/",
     "height": 295
    },
    "colab_type": "code",
    "id": "V2bsluaRTrTt",
    "outputId": "dcdf7156-9131-4d9a-bbc1-8984c926e7fa"
   },
   "outputs": [
    {
     "data": {
      "image/png": "[encoded data removed]",
      "text/plain": [
       "<Figure size 432x288 with 1 Axes>"
      ]
     },
     "metadata": {
      "needs_background": "light"
     },
     "output_type": "display_data"
    }
   ],
   "source": [
    "import math\n",
    "import matplotlib.pyplot as pl\n",
    "%matplotlib inline \n",
    "\n",
    "t = [i/50 for i in range(501)] #generate values from 0 to 10\n",
    "f = 1 \n",
    "y = [math.sin(2*math.pi*f*i)*math.exp(-0.5*i) for i in t] # y = sin(2Pi*f*t)*exp(-t/2)\n",
    "pl.plot(t,y)\n",
    "pl.title('Damped Sine Wave with %.1f Hz frequency' % f)\n",
    "pl.xlabel('t (s)')\n",
    "pl.ylabel('y')\n",
    "pl.grid()\n",
    "pl.show()\n",
    "\n",
    "\n"
   ]
  },
  {
   "cell_type": "markdown",
   "metadata": {
    "colab_type": "text",
    "id": "3-fddWrbTrTx"
   },
   "source": [
    "**Exercise 8.1**\n",
    "Change *pl.scatter* to *pl.plot*."
   ]
  },
  {
   "cell_type": "markdown",
   "metadata": {
    "colab_type": "text",
    "id": "TkDEYArhTrTy"
   },
   "source": [
    "**Exercise 8.2**\n",
    "Highlight data points, s.t. $|y|>0.5$ in a different marker colour."
   ]
  },
  {
   "cell_type": "markdown",
   "metadata": {
    "colab_type": "text",
    "id": "7bGnV905TrT0"
   },
   "source": [
    "## 9. Data Structures"
   ]
  },
  {
   "cell_type": "markdown",
   "metadata": {
    "colab_type": "text",
    "id": "JDsMwBOZTrT0"
   },
   "source": [
    "**Exercise 9.1** (Demanding question)\n",
    "Given a list of words, group all of them based on the following similarity metric.\n",
    "\n",
    "\n",
    "\\begin{equation}   \n",
    "  \\mathsf{sim(word_1, word_2)} = \\left\\{\n",
    "  \\begin{array}{@{}ll@{}}\n",
    "    1, & \\text{if letters in only } \\mathsf{word_1} \\text{ are used to form } \\mathsf{ word_2 } \\text{ and vice versa } \\textit{(iff)}\\\\\n",
    "    0, & \\text{otherwise}\n",
    "  \\end{array}\\right.\n",
    "\\end{equation}\n",
    "\n",
    "E.g. 'arts', 'rats', 'star', 'tars' and 'start' are similar words.\n",
    "\n",
    "Choose an appropriate data structure and analyze computational complexity of your algorithm."
   ]
  },
  {
   "cell_type": "code",
   "execution_count": 23,
   "metadata": {
    "colab": {
     "base_uri": "https://localhost:8080/",
     "height": 55
    },
    "colab_type": "code",
    "id": "iQgOpLzcTrT1",
    "outputId": "e8528f89-3bf4-4ef4-b163-88b9c04f37e3"
   },
   "outputs": [
    {
     "name": "stdout",
     "output_type": "stream",
     "text": [
      "[['allergy', 'largely', 'regally', 'gallery'], ['arts', 'rats', 'star', 'tars'], ['bluest', 'bluets', 'bustle', 'sublet', 'subtle'], ['grab'], ['lager'], ['pat', 'apt', 'tap', 'tap'], ['potters'], ['retraced'], ['start']]\n"
     ]
    }
   ],
   "source": [
    "word_list = ['arts', 'rats', 'star', 'tars', 'start', 'pat', 'allergy', 'lager', 'largely', 'regally', 'apt', \\\n",
    "             'potters', 'tap', 'bluest', 'tap', 'bluets', 'retraced', 'gallery','bustle', 'sublet', 'subtle', 'grab']\n",
    "first = []\n",
    "\n",
    "for i in range(len(word_list)) :\n",
    "  first.append([])\n",
    "  for j in range(len(word_list)):\n",
    "    \n",
    "    if sorted(word_list[i]) == sorted(word_list[j]):\n",
    "      first[i].append(word_list[j])\n",
    " \n",
    "first = sorted(first)\n",
    "final = [first[i] for i in range(len(first)) if first[i] == 0 or first[i] != first[i-1]]\n",
    "\n",
    "print(final)\n",
    "#Note: Keys in a dictionary are immutable \n",
    "#Note: If the word list is a big dataset, size of the dictionary (number of keys) is enormous (< 1 million entries). "
   ]
  },
  {
   "cell_type": "code",
   "execution_count": 30,
   "metadata": {},
   "outputs": [
    {
     "ename": "SyntaxError",
     "evalue": "invalid syntax (<ipython-input-30-fd92a27c9d44>, line 9)",
     "output_type": "error",
     "traceback": [
      "\u001b[1;36m  File \u001b[1;32m\"<ipython-input-30-fd92a27c9d44>\"\u001b[1;36m, line \u001b[1;32m9\u001b[0m\n\u001b[1;33m    else word_dict.update(str(sorted(word_list[i])))\u001b[0m\n\u001b[1;37m                 ^\u001b[0m\n\u001b[1;31mSyntaxError\u001b[0m\u001b[1;31m:\u001b[0m invalid syntax\n"
     ]
    }
   ],
   "source": [
    "word_list = ['arts', 'rats', 'star', 'tars', 'start', 'pat', 'allergy', 'lager', 'largely', 'regally', 'apt', \\\n",
    "             'potters', 'tap', 'bluest', 'tap', 'bluets', 'retraced', 'gallery','bustle', 'sublet', 'subtle', 'grab']\n",
    "\n",
    "word_dict = {}\n",
    "\n",
    "for i in range(len(word_list)):\n",
    "    if sorted(word_list[i]) in word_dict:\n",
    "        continue\n",
    "    else word_dict.update(str(sorted(word_list[i])))\n",
    "    \n",
    "print(word_dict)\n",
    "\n",
    "\n"
   ]
  },
  {
   "cell_type": "markdown",
   "metadata": {
    "colab_type": "text",
    "id": "ugFACUCNTrT5"
   },
   "source": [
    "Notes: Additionally, read about anagram, regular expressions, grep command and Jaccard similarity"
   ]
  },
  {
   "cell_type": "markdown",
   "metadata": {
    "colab_type": "text",
    "id": "GmICtNLVTrT5"
   },
   "source": [
    "Python:\n",
    "* object-oriented\n",
    "* dynamically typed\n",
    "* interpeted (not compiled)\n",
    "* functional programming is possible with map(), reduce(), etc."
   ]
  },
  {
   "cell_type": "markdown",
   "metadata": {
    "colab_type": "text",
    "id": "A08UvyDoTrT6"
   },
   "source": [
    "## Next week\n",
    "\n",
    "* Why generic python lists are less suitable for linear algebraic calculations?\n",
    "* Introduction to numpy and scipy libraries.\n",
    "* Matrix decomposition"
   ]
  }
 ],
 "metadata": {
  "colab": {
   "collapsed_sections": [],
   "name": "lab1.ipynb",
   "provenance": [],
   "version": "0.3.2"
  },
  "kernelspec": {
   "display_name": "Python 3",
   "language": "python",
   "name": "python3"
  },
  "language_info": {
   "codemirror_mode": {
    "name": "ipython",
    "version": 3
   },
   "file_extension": ".py",
   "mimetype": "text/x-python",
   "name": "python",
   "nbconvert_exporter": "python",
   "pygments_lexer": "ipython3",
   "version": "3.7.2"
  }
 },
 "nbformat": 4,
 "nbformat_minor": 1
}
