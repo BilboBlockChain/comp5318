{
  "nbformat": 4,
  "nbformat_minor": 0,
  "metadata": {
    "colab": {
      "name": "lab1.ipynb",
      "version": "0.3.2",
      "provenance": [],
      "collapsed_sections": []
    },
    "kernelspec": {
      "display_name": "Python 3",
      "language": "python",
      "name": "python3"
    },
    "language_info": {
      "codemirror_mode": {
        "name": "ipython",
        "version": 3
      },
      "file_extension": ".py",
      "mimetype": "text/x-python",
      "name": "python",
      "nbconvert_exporter": "python",
      "pygments_lexer": "ipython3",
      "version": "3.7.3"
    }
  },
  "cells": [
    {
      "cell_type": "markdown",
      "metadata": {
        "colab_type": "text",
        "id": "Wodw1088TrSa"
      },
      "source": [
        "# COMP5318 - Machine Learning and Data Mining"
      ]
    },
    {
      "cell_type": "markdown",
      "metadata": {
        "colab_type": "text",
        "id": "8ec43_94TrSd"
      },
      "source": [
        "## Tutorial 01 - Introduction to Python"
      ]
    },
    {
      "cell_type": "markdown",
      "metadata": {
        "colab_type": "text",
        "id": "jEdRg2oRTrSe"
      },
      "source": [
        "**Semester 2, 2019**\n",
        "\n",
        "**Objectives:**\n",
        "\n",
        "* To develop basic Python 3 programming skills.\n",
        "* To become familiar with commonly used Python libraries.\n",
        "* To understand the similarity of Python to other programming languages.\n",
        "\n",
        "\n",
        "**Instructions:**\n",
        "* Exercises to be completed on IPython notebook such as: \n",
        "   * Ipython 3 (Jupyter) notebook installed on your computer http://jupyter.org/install (you need to have Python installed first https://docs.python.org/3/using/index.html )\n",
        "   * Web-based Ipython notebooks such as Google Colaboratory https://colab.research.google.com/ \n",
        "   \n",
        "* If you are using Jupyter intalled on your computer, Go to File->Open. Drag and drop \"lab1.ipynb\" file to the home interface and click upload. \n",
        "* If you are using Google Colaboratory, Click File->Upload notebook, and and upload \"lab1.ipynb\" file\n",
        "* Complete exercises in \"lab1.ipynb\".\n",
        "* To run the cell you can press Ctrl-Enter or hit the Play button at the top.\n",
        "* Complete all exercises marked with **TODO**.\n",
        "* Save your file when you are done with the exercises, so you can show your tutor next week.\n",
        "\n",
        "Lecturers: Nguyen Hoang Tran \n",
        "\n",
        "Tutors: Fengxiang He, Shaojun Zhang, Fangzhou Shi, Yang Lin, Iwan Budiman, Zhiyi Wang, Canh Dinh, Yixuan Zhang, Rui Dong, Haoyu He, Dai Hoang Tran"
      ]
    },
    {
      "cell_type": "markdown",
      "metadata": {
        "colab_type": "text",
        "id": "cKSnaUGVTrSg"
      },
      "source": [
        "## 1. Printing"
      ]
    },
    {
      "cell_type": "code",
      "metadata": {
        "colab_type": "code",
        "id": "ma9mbUN0TrSh",
        "outputId": "dab98ea5-202b-4ff9-fc96-112ee1a0de36",
        "colab": {
          "base_uri": "https://localhost:8080/",
          "height": 72
        }
      },
      "source": [
        "\"\"\"\n",
        "Introduction to Python\n",
        "Tutorial 1\n",
        "\"\"\"\n",
        "\n",
        "print(5) #note for python 2.7 users: use print 5\n",
        "\n",
        "d = {'apple':10, 'pear':20,'orange':10, 'berry': 'sold out'}\n",
        "d['banana'] = 30\n",
        "print(d)\n",
        "values = set([d[key] for key in d.keys()])\n",
        "print(values)\n",
        "\n",
        "# use %debug to see which lines of chunk cause errors\n",
        "#exit debug using exit command\n",
        "# use control and slash together to comment out multiple lines"
      ],
      "execution_count": 1,
      "outputs": [
        {
          "output_type": "stream",
          "text": [
            "5\n",
            "{'apple': 10, 'pear': 20, 'orange': 10, 'berry': 'sold out', 'banana': 30}\n",
            "{10, 20, 30, 'sold out'}\n"
          ],
          "name": "stdout"
        }
      ]
    },
    {
      "cell_type": "code",
      "metadata": {
        "colab_type": "code",
        "id": "gsWrrv8BTrSn",
        "outputId": "09e6f8e0-4fc2-46ea-a0a5-53224775218c",
        "colab": {
          "base_uri": "https://localhost:8080/",
          "height": 35
        }
      },
      "source": [
        "print(1, 16, 1/16, 'text') #note for python 2.7 users: 1/16 -> 0 in python 2.7 "
      ],
      "execution_count": 2,
      "outputs": [
        {
          "output_type": "stream",
          "text": [
            "1 16 0.0625 text\n"
          ],
          "name": "stdout"
        }
      ]
    },
    {
      "cell_type": "code",
      "metadata": {
        "colab_type": "code",
        "id": "MN_qkWReTrSr",
        "colab": {
          "base_uri": "https://localhost:8080/",
          "height": 72
        },
        "outputId": "9e77e107-46e9-4f56-b034-eacce4f35318"
      },
      "source": [
        "print( '1 divided by 16 is %f' % (1/16) )\n",
        "print( '1 divided by 16 is %.2f' % (1/16) )\n",
        "print( '1 divided by 16 is %.2f and 1 divided by 32 is %.2f' % (1/16, 1/32) )"
      ],
      "execution_count": 3,
      "outputs": [
        {
          "output_type": "stream",
          "text": [
            "1 divided by 16 is 0.062500\n",
            "1 divided by 16 is 0.06\n",
            "1 divided by 16 is 0.06 and 1 divided by 32 is 0.03\n"
          ],
          "name": "stdout"
        }
      ]
    },
    {
      "cell_type": "markdown",
      "metadata": {
        "colab_type": "text",
        "id": "114F6shgTrSu"
      },
      "source": [
        "## 2. Numbers and Variables\n",
        "\n",
        "String, integer, float and bool (logical) variables are ubiquitous data types in Python."
      ]
    },
    {
      "cell_type": "code",
      "metadata": {
        "colab_type": "code",
        "id": "J6uiBwquTrSv",
        "colab": {}
      },
      "source": [
        "var1 = 'Welcome to COMP5318' #alternative: you may use double quotation marks as in  \"Welcome to COMP5318\"\n",
        "print(var1, ' is ',type(var1)) \n",
        "\n",
        "var2 = 10\n",
        "print(var2, ' is ',type(var2))\n",
        "\n",
        "var3 = 10.0 #alternative: 10.\n",
        "print(var3, ' is ',type(var3))\n",
        "\n",
        "var4 = True \n",
        "print(var4, ' is ',type(var4))\n"
      ],
      "execution_count": 0,
      "outputs": []
    },
    {
      "cell_type": "markdown",
      "metadata": {
        "colab_type": "text",
        "id": "yMWv-I_tTrS0"
      },
      "source": [
        "## 2. Lists \n",
        "A list is a mutable, i.e. values can be changed (add/delete/update), sequence. Since each element has a fixed position, an index which starts from  0 can be used access elements. Although it can contain any type of variable, using heterogeneous variables is not customary. There are immutable data structures such as \"tuples\" and unordered data structures such as \"sets\" that we do not discuss in this tutorial. "
      ]
    },
    {
      "cell_type": "code",
      "metadata": {
        "colab_type": "code",
        "id": "wNzZ80dlTrS1",
        "colab": {}
      },
      "source": [
        "#For students familiar with MATLAB, indexing and length of  arrays can be tricky.\n",
        "\n",
        "seq = [2, 10, 20, 30, 50, 80, 130, 210, 340]\n",
        "\n",
        "print('seq = ', seq)\n",
        "print('seq[0] = ', seq[0])\n",
        "print('seq[3] = ', seq[3])\n",
        "print('seq[0:3] = ', seq[0:3]) #alternative: seq[:3]\n",
        "print('seq[3:6] = ', seq[3:6])\n",
        "print('seq[-1] = ', seq[-1])\n",
        "print('seq[3:-3] = ', seq[3:-3])"
      ],
      "execution_count": 0,
      "outputs": []
    },
    {
      "cell_type": "markdown",
      "metadata": {
        "colab_type": "text",
        "id": "3eDT1hM5TrS7"
      },
      "source": [
        "**Exercise 2.1**\n",
        "\n",
        "Use $len()$ to calculate the length (number of elements) of lists."
      ]
    },
    {
      "cell_type": "markdown",
      "metadata": {
        "colab_type": "text",
        "id": "qnzzpnZiTrS9"
      },
      "source": [
        "**Exercise 2.2**\n",
        "\n",
        "Use $.append()$ to add an element to the end of a list.\n",
        "\n",
        "For more methods of list objects such as $.sort(), .count(), .reverse()$ refer https://docs.python.org/2/tutorial/datastructures.html.\n",
        "Note that lists can be used as queues with some of these methods."
      ]
    },
    {
      "cell_type": "code",
      "metadata": {
        "colab_type": "code",
        "id": "xfl03TVvTrS-",
        "colab": {}
      },
      "source": [
        "fruitSalad = ['Banana', 'Cantaloupe', 'Apple', 'Tomato']\n",
        "print(fruitSalad)\n",
        "\n",
        "fruitSalad.remove('Tomato')\n",
        "fruitSalad.append('Papaya')\n",
        "fruitSalad.append('Grapes')\n",
        "print(fruitSalad)\n",
        "\n",
        "print('Strawberry' in fruitSalad)"
      ],
      "execution_count": 0,
      "outputs": []
    },
    {
      "cell_type": "markdown",
      "metadata": {
        "colab_type": "text",
        "id": "OHIqhiXtTrTB"
      },
      "source": [
        "## 4. Arithmetic Operators"
      ]
    },
    {
      "cell_type": "code",
      "metadata": {
        "colab_type": "code",
        "id": "_qEtkvvBTrTC",
        "colab": {}
      },
      "source": [
        "x = 10\n",
        "y = 20\n",
        "z = x + y\n",
        "print('x=%d, y=%d, z=%d' % (x, y, z)) #alternative for printing: print('x=',x, 'y=',y, 'z=',z)"
      ],
      "execution_count": 0,
      "outputs": []
    },
    {
      "cell_type": "markdown",
      "metadata": {
        "colab_type": "text",
        "id": "tjmRyTZOTrTG"
      },
      "source": [
        "**Exercise 4.1**\n",
        "Identify the use of following arithmetic operators.  $+, -, *, /, \\%, **, // $"
      ]
    },
    {
      "cell_type": "code",
      "metadata": {
        "colab_type": "code",
        "id": "HJYwEkBpTrTH",
        "colab": {}
      },
      "source": [
        "#string operations\n",
        "firstName = 'Alan'\n",
        "lastName = 'Turing'\n",
        "fullName = firstName + ' ' + lastName\n",
        "print(fullName) "
      ],
      "execution_count": 0,
      "outputs": []
    },
    {
      "cell_type": "markdown",
      "metadata": {
        "colab_type": "text",
        "id": "fn_5Xu2lTrTK"
      },
      "source": [
        "## 5. Relational and Logical Operators\n",
        "\n",
        "Relational operators are used to identify the relationship between two entities (e.g. variables) and the output is either True or False.\n"
      ]
    },
    {
      "cell_type": "code",
      "metadata": {
        "colab_type": "code",
        "id": "XQPFtYakTrTM",
        "colab": {}
      },
      "source": [
        "print(20>10)"
      ],
      "execution_count": 0,
      "outputs": []
    },
    {
      "cell_type": "markdown",
      "metadata": {
        "colab_type": "text",
        "id": "itoMjJr7TrTO"
      },
      "source": [
        "**Exercise 5.1**\n",
        "Identify the use of following relational operators.  $==, !=, >, <, >=, <=$"
      ]
    },
    {
      "cell_type": "code",
      "metadata": {
        "colab_type": "code",
        "id": "2zb0RDwsTrTP",
        "colab": {}
      },
      "source": [
        "x = 2\n",
        "y= 1.1*(x**2) - 15*x - 20\n",
        "if y>0:      \n",
        "    print('y is positive')\n",
        "else:\n",
        "    print('y is non-positive')"
      ],
      "execution_count": 0,
      "outputs": []
    },
    {
      "cell_type": "code",
      "metadata": {
        "colab_type": "code",
        "id": "GbN_73YFTrTS",
        "colab": {}
      },
      "source": [
        "x = 2\n",
        "y= 1.1*(x**2) - 15*x - 20\n",
        "if y==0:\n",
        "    print('y is zero')\n",
        "elif y>0:\n",
        "    print('y is positive')\n",
        "else:\n",
        "    print('y is negative')"
      ],
      "execution_count": 0,
      "outputs": []
    },
    {
      "cell_type": "code",
      "metadata": {
        "colab_type": "code",
        "id": "sUEwDXuDTrTU",
        "colab": {}
      },
      "source": [
        "x = 10\n",
        "a, b = -15, 15\n",
        "if x>a and x<b: #alternative: a<x<b\n",
        "    print('In range!')\n",
        "else:\n",
        "    print('Out of range!')"
      ],
      "execution_count": 0,
      "outputs": []
    },
    {
      "cell_type": "markdown",
      "metadata": {
        "colab_type": "text",
        "id": "ISfQWYywTrTY"
      },
      "source": [
        "**Exercise 5.2**\n",
        "\n",
        "Identify the use of following logical operators: $\\mathrm{and, or}$ and $\\mathrm{ not}$"
      ]
    },
    {
      "cell_type": "markdown",
      "metadata": {
        "colab_type": "text",
        "id": "NWcCEkOVTrTZ"
      },
      "source": [
        "## 6. Math Library \n",
        "\n",
        "This can be considered as the generic library for mathematics in python."
      ]
    },
    {
      "cell_type": "code",
      "metadata": {
        "colab_type": "code",
        "id": "rV8VMp1gTrTb",
        "colab": {
          "base_uri": "https://localhost:8080/",
          "height": 225
        },
        "outputId": "7fbb3857-abe2-4fd1-85b3-cf3d77166f08"
      },
      "source": [
        "import math\n",
        "\n",
        "theta = 2*math.pi\n",
        "y = math.cos(theta)**2 + math.sin(theta)**2\n",
        "print(y)\n",
        "\n",
        "#use tab to autocomplete\n",
        "#math.a will add further suggestions"
      ],
      "execution_count": 5,
      "outputs": [
        {
          "output_type": "stream",
          "text": [
            "1.0\n"
          ],
          "name": "stdout"
        },
        {
          "output_type": "error",
          "ename": "AttributeError",
          "evalue": "ignored",
          "traceback": [
            "\u001b[0;31m---------------------------------------------------------------------------\u001b[0m",
            "\u001b[0;31mAttributeError\u001b[0m                            Traceback (most recent call last)",
            "\u001b[0;32m<ipython-input-5-b73de94d4aef>\u001b[0m in \u001b[0;36m<module>\u001b[0;34m()\u001b[0m\n\u001b[1;32m      6\u001b[0m \u001b[0;34m\u001b[0m\u001b[0m\n\u001b[1;32m      7\u001b[0m \u001b[0;31m#use tab to autocomplete\u001b[0m\u001b[0;34m\u001b[0m\u001b[0;34m\u001b[0m\u001b[0;34m\u001b[0m\u001b[0m\n\u001b[0;32m----> 8\u001b[0;31m \u001b[0mmath\u001b[0m\u001b[0;34m.\u001b[0m\u001b[0ma\u001b[0m\u001b[0;34m\u001b[0m\u001b[0;34m\u001b[0m\u001b[0m\n\u001b[0m",
            "\u001b[0;31mAttributeError\u001b[0m: module 'math' has no attribute 'a'"
          ]
        }
      ]
    },
    {
      "cell_type": "markdown",
      "metadata": {
        "colab_type": "text",
        "id": "cTISUgO-TrTe"
      },
      "source": [
        "## 7. Iterations"
      ]
    },
    {
      "cell_type": "code",
      "metadata": {
        "colab_type": "code",
        "id": "HcBApqM7TrTf",
        "colab": {}
      },
      "source": [
        "sum_var = 0\n",
        "for i in range(10): #alternative: range(0,10,1)\n",
        "    sum_var = sum_var + i #: alternative sum_var += i\n",
        "print(sum_var)"
      ],
      "execution_count": 0,
      "outputs": []
    },
    {
      "cell_type": "code",
      "metadata": {
        "colab_type": "code",
        "id": "Yz_DfOZ7TrTi",
        "colab": {}
      },
      "source": [
        "x = [10, 20, 30, -35, 5.5]\n",
        "sum_var = 0\n",
        "for i in x:\n",
        "    sum_var = sum_var + i\n",
        "print(sum_var)"
      ],
      "execution_count": 0,
      "outputs": []
    },
    {
      "cell_type": "markdown",
      "metadata": {
        "colab_type": "text",
        "id": "uOVVh1P4TrTk"
      },
      "source": [
        "**Exercise 7.1**\n",
        "Append the above program to add all positive numbers in list x."
      ]
    },
    {
      "cell_type": "code",
      "metadata": {
        "colab_type": "code",
        "id": "Fr35IpUxTrTl",
        "colab": {}
      },
      "source": [
        "x = [i for i in range(10)]\n",
        "print(x)\n",
        "\n",
        "y = [i**2 for i in x] # or [i**2 for i in range(10)]\n",
        "print(y)"
      ],
      "execution_count": 0,
      "outputs": []
    },
    {
      "cell_type": "markdown",
      "metadata": {
        "colab_type": "text",
        "id": "R0KD7XL9TrTn"
      },
      "source": [
        "**Exercise 7.2**\n",
        "Let $\\mathbf{x} = [3, 1, 2, 4]$ and $\\mathbf{y} = [1, 2, 1, 2]$. Calculate the similarity between $\\mathbf{x}$ and $\\mathbf{y}$ using,\n",
        "\n",
        "1) Cosine similarity defined as $\\mathsf{sim}_{dot}(\\mathbf{x,y})  = \\mathbf{x \\cdot y/||x|| ||y||}$\n",
        "\n",
        "2) Eucledian distance (a.k.a $\\mathsf{L}^2$ distance) defined as $\\mathsf{sim}_{Euc}(\\mathbf{x,y})  = \\| \\mathbf{x} - \\mathbf{y}\\|_2 = \\sqrt{\\sum_{i=1}^{N} ( x_i - y_i)^2}$\n",
        "\n",
        "(Refer to lecture 1)."
      ]
    },
    {
      "cell_type": "code",
      "metadata": {
        "colab_type": "code",
        "id": "TLVjP0B8TrTo",
        "colab": {}
      },
      "source": [
        "TODO"
      ],
      "execution_count": 0,
      "outputs": []
    },
    {
      "cell_type": "markdown",
      "metadata": {
        "colab_type": "text",
        "id": "4pXAZ10gTrTr"
      },
      "source": [
        "## 8. Plotting with Matplotlib Library"
      ]
    },
    {
      "cell_type": "code",
      "metadata": {
        "colab_type": "code",
        "id": "V2bsluaRTrTt",
        "colab": {}
      },
      "source": [
        "import math\n",
        "import matplotlib.pyplot as pl\n",
        "%matplotlib inline \n",
        "\n",
        "t = [i/50 for i in range(501)] #generate values from 0 to 10\n",
        "f = 1 \n",
        "y = [math.sin(2*math.pi*f*i)*math.exp(-0.5*i) for i in t] # y = sin(2Pi*f*t)*exp(-t/2)\n",
        "pl.scatter(t,y)\n",
        "pl.title('Damped Sine Wave with %.1f Hz frequency' % f)\n",
        "pl.xlabel('t (s)')\n",
        "pl.ylabel('y')\n",
        "pl.grid()\n",
        "pl.show()"
      ],
      "execution_count": 0,
      "outputs": []
    },
    {
      "cell_type": "markdown",
      "metadata": {
        "colab_type": "text",
        "id": "3-fddWrbTrTx"
      },
      "source": [
        "**Exercise 8.1**\n",
        "Change *pl.scatter* to *pl.plot*."
      ]
    },
    {
      "cell_type": "markdown",
      "metadata": {
        "colab_type": "text",
        "id": "TkDEYArhTrTy"
      },
      "source": [
        "**Exercise 8.2**\n",
        "Highlight data points, s.t. $|y|>0.5$ in a different marker colour."
      ]
    },
    {
      "cell_type": "markdown",
      "metadata": {
        "colab_type": "text",
        "id": "7bGnV905TrT0"
      },
      "source": [
        "## 9. Data Structures"
      ]
    },
    {
      "cell_type": "markdown",
      "metadata": {
        "colab_type": "text",
        "id": "JDsMwBOZTrT0"
      },
      "source": [
        "**Exercise 9.1** (Demanding question)\n",
        "Given a list of words, group all of them based on the following similarity metric.\n",
        "\n",
        "\n",
        "\\begin{equation}   \n",
        "  \\mathsf{sim(word_1, word_2)} = \\left\\{\n",
        "  \\begin{array}{@{}ll@{}}\n",
        "    1, & \\text{if letters in only } \\mathsf{word_1} \\text{ are used to form } \\mathsf{ word_2 } \\text{ and vice versa } \\textit{(iff)}\\\\\n",
        "    0, & \\text{otherwise}\n",
        "  \\end{array}\\right.\n",
        "\\end{equation}\n",
        "\n",
        "E.g. 'arts', 'rats', 'star', 'tars' and 'start' are similar words.\n",
        "\n",
        "Choose an appropriate data structure and analyze computational complexity of your algorithm."
      ]
    },
    {
      "cell_type": "code",
      "metadata": {
        "colab_type": "code",
        "id": "iQgOpLzcTrT1",
        "colab": {}
      },
      "source": [
        "word_list = ['arts', 'rats', 'star', 'tars', 'start', 'pat', 'allergy', 'lager', 'largely', 'regally', 'apt', \\\n",
        "             'potters', 'tap', 'bluest', 'tap', 'bluets', 'retraced', 'gallery','bustle', 'sublet', 'subtle', 'grab']\n",
        "\n",
        "TODO\n",
        "    \n",
        "#Note: Keys in a dictionary are immutable \n",
        "#Note: If the word list is a big dataset, size of the dictionary (number of keys) is enormous (< 1 million entries). "
      ],
      "execution_count": 0,
      "outputs": []
    },
    {
      "cell_type": "markdown",
      "metadata": {
        "colab_type": "text",
        "id": "ugFACUCNTrT5"
      },
      "source": [
        "Notes: Additionally, read about anagram, regular expressions, grep command and Jaccard similarity"
      ]
    },
    {
      "cell_type": "markdown",
      "metadata": {
        "colab_type": "text",
        "id": "GmICtNLVTrT5"
      },
      "source": [
        "Python:\n",
        "* object-oriented\n",
        "* dynamically typed\n",
        "* interpeted (not compiled)\n",
        "* functional programming is possible with map(), reduce(), etc."
      ]
    },
    {
      "cell_type": "markdown",
      "metadata": {
        "colab_type": "text",
        "id": "A08UvyDoTrT6"
      },
      "source": [
        "## Next week\n",
        "\n",
        "* Why generic python lists are less suitable for linear algebraic calculations?\n",
        "* Introduction to numpy and scipy libraries.\n",
        "* Matrix decomposition"
      ]
    }
  ]
}