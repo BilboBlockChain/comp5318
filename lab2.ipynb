{
  "nbformat": 4,
  "nbformat_minor": 0,
  "metadata": {
    "kernelspec": {
      "display_name": "Python 3",
      "language": "python",
      "name": "python3"
    },
    "language_info": {
      "codemirror_mode": {
        "name": "ipython",
        "version": 3
      },
      "file_extension": ".py",
      "mimetype": "text/x-python",
      "name": "python",
      "nbconvert_exporter": "python",
      "pygments_lexer": "ipython3",
      "version": "3.7.3"
    },
    "colab": {
      "name": "lab2.ipynb",
      "version": "0.3.2",
      "provenance": [],
      "include_colab_link": true
    }
  },
  "cells": [
    {
      "cell_type": "markdown",
      "metadata": {
        "id": "view-in-github",
        "colab_type": "text"
      },
      "source": [
        "<a href=\"https://colab.research.google.com/github/selingerJosh/comp5318/blob/master/lab2.ipynb\" target=\"_parent\"><img src=\"https://colab.research.google.com/assets/colab-badge.svg\" alt=\"Open In Colab\"/></a>"
      ]
    },
    {
      "cell_type": "markdown",
      "metadata": {
        "id": "GrhEd-kpU4xq",
        "colab_type": "text"
      },
      "source": [
        "# COMP5318 - Machine Learning and Data Mining \n",
        "\n",
        "## Tutorial 2 - Matrix Decomposition"
      ]
    },
    {
      "cell_type": "markdown",
      "metadata": {
        "id": "NtTSIUwBU4xv",
        "colab_type": "text"
      },
      "source": [
        "**Semester 2, 2019**\n",
        "\n",
        "**Objectives:**\n",
        "\n",
        "* To perform linear algebraic calculations in python.\n",
        "* To become familiar matrix decomposition techniques.\n",
        "* To use SVD as a compression technique.\n",
        "\n",
        "\n",
        "\n",
        "**Instructions:**\n",
        "* Exercises to be completed on IPython notebook such as: \n",
        "   * Ipython 3 (Jupyter) notebook installed on your computer http://jupyter.org/install (you need to have Python installed first https://docs.python.org/3/using/index.html )\n",
        "   * Web-based Ipython notebooks such as Google Colaboratory https://colab.research.google.com/ \n",
        "   \n",
        "* If you are using Jupyter intalled on your computer, Go to File->Open. Drag and drop \"lab2.ipynb\" file to the home interface and click upload. \n",
        "* If you are using Google Colaboratory, Click File->Upload notebook, and and upload \"lab2.ipynb\" file\n",
        "* Complete exercises in \"lab2.ipynb\".\n",
        "* To run the cell you can press Ctrl-Enter or hit the Play button at the top.\n",
        "* Complete all exercises marked with **TODO**.\n",
        "* Save your file when you are done with the exercises, so you can show your tutor next week.\n",
        "\n",
        "Lecturers: Nguyen Hoang Tran\n",
        "\n",
        "Tutors: Fengxiang He, Shaojun Zhang, Fangzhou Shi, Yang Lin, Iwan Budiman, Zhiyi Wang, Canh Dinh, Yixuan Zhang, Rui Dong, Haoyu He, Dai Hoang Tran\n"
      ]
    },
    {
      "cell_type": "markdown",
      "metadata": {
        "id": "mRLa93vJU4xx",
        "colab_type": "text"
      },
      "source": [
        "# 1. Numpy library"
      ]
    },
    {
      "cell_type": "markdown",
      "metadata": {
        "id": "cvftJYjcU4xx",
        "colab_type": "text"
      },
      "source": [
        "## 1.1 Defining numpy arrays"
      ]
    },
    {
      "cell_type": "code",
      "metadata": {
        "id": "lt8SFZLTU4x0",
        "colab_type": "code",
        "outputId": "7003eb67-4fa7-41d2-c7be-eefafa33cb8d",
        "colab": {
          "base_uri": "https://localhost:8080/",
          "height": 67
        }
      },
      "source": [
        "x_list = [1, 2, 3, 6, 9, 13] #define a python list\n",
        "\n",
        "print( x_list )\n",
        "print( x_list[0] ) #slicing\n",
        "print( x_list[1:-2] ) #slicing \n",
        "\n",
        "\n",
        "\n",
        "###define global variable inside function with global keyword google for later"
      ],
      "execution_count": 1,
      "outputs": [
        {
          "output_type": "stream",
          "text": [
            "[1, 2, 3, 6, 9, 13]\n",
            "1\n",
            "[2, 3, 6]\n"
          ],
          "name": "stdout"
        }
      ]
    },
    {
      "cell_type": "code",
      "metadata": {
        "id": "juww5N23U4x5",
        "colab_type": "code",
        "outputId": "a19aa0cd-63da-43dd-9014-c6adbdd5ee95",
        "colab": {
          "base_uri": "https://localhost:8080/",
          "height": 67
        }
      },
      "source": [
        "#let us use numpy library \n",
        "import numpy as np\n",
        "\n",
        "x = np.array([1, 2, 3, 6, 9, 13]) #define a numpy array\n",
        "\n",
        "print( x )\n",
        "print( x[0] ) #slicing\n",
        "print( x[1:-2] ) #slicing "
      ],
      "execution_count": 2,
      "outputs": [
        {
          "output_type": "stream",
          "text": [
            "[ 1  2  3  6  9 13]\n",
            "1\n",
            "[2 3 6]\n"
          ],
          "name": "stdout"
        }
      ]
    },
    {
      "cell_type": "markdown",
      "metadata": {
        "id": "75Tb8LmaU4x9",
        "colab_type": "text"
      },
      "source": [
        "## 1.2 Numpy operations and slicing"
      ]
    },
    {
      "cell_type": "code",
      "metadata": {
        "id": "IoBwWdXwU4x_",
        "colab_type": "code",
        "outputId": "5af687cb-417e-48a0-c433-9507c69ae762",
        "colab": {
          "base_uri": "https://localhost:8080/",
          "height": 118
        }
      },
      "source": [
        "import math\n",
        "y1_list = [2*x_i for x_i in x_list]\n",
        "y2_list = [x_i**2 + 2*x_i + 1 for x_i in x_list]\n",
        "y3_list = [math.log10(x_i) for x_i in x_list]\n",
        "y4_list = [x_i > 4 for x_i in x_list]\n",
        "\n",
        "print( 'x_list = ', x_list )\n",
        "print( 'y1_list = ', y1_list )\n",
        "print( 'y2_list = ',  y2_list )\n",
        "print( 'y3_list = ',  y3_list, '\\n and rounded y3_list = ',  [round(y3_i, 4) for y3_i in y3_list] )\n",
        "print( 'y4_list = ',  y4_list )"
      ],
      "execution_count": 3,
      "outputs": [
        {
          "output_type": "stream",
          "text": [
            "x_list =  [1, 2, 3, 6, 9, 13]\n",
            "y1_list =  [2, 4, 6, 12, 18, 26]\n",
            "y2_list =  [4, 9, 16, 49, 100, 196]\n",
            "y3_list =  [0.0, 0.3010299956639812, 0.47712125471966244, 0.7781512503836436, 0.9542425094393249, 1.1139433523068367] \n",
            " and rounded y3_list =  [0.0, 0.301, 0.4771, 0.7782, 0.9542, 1.1139]\n",
            "y4_list =  [False, False, False, True, True, True]\n"
          ],
          "name": "stdout"
        }
      ]
    },
    {
      "cell_type": "code",
      "metadata": {
        "id": "jbwlDGF1U4yC",
        "colab_type": "code",
        "outputId": "866e01e5-3643-4873-acbd-7a7d033eac2e",
        "colab": {
          "base_uri": "https://localhost:8080/",
          "height": 118
        }
      },
      "source": [
        "#let us use numpy library \n",
        "y1 = 2*x\n",
        "y2 = x**2 + 2*x + 1\n",
        "y3 = np.log10(x)\n",
        "y4 = x > 4\n",
        "print( 'x = ', x )\n",
        "print( 'y1 = ', y1 )\n",
        "print( 'y2 = ',  y2 )\n",
        "print('y3 = ',  y3, '\\n and rounded y3 = ',  np.round(y3, 4) )\n",
        "print( 'y4 = ',  y4 )"
      ],
      "execution_count": 4,
      "outputs": [
        {
          "output_type": "stream",
          "text": [
            "x =  [ 1  2  3  6  9 13]\n",
            "y1 =  [ 2  4  6 12 18 26]\n",
            "y2 =  [  4   9  16  49 100 196]\n",
            "y3 =  [0.         0.30103    0.47712125 0.77815125 0.95424251 1.11394335] \n",
            " and rounded y3 =  [0.     0.301  0.4771 0.7782 0.9542 1.1139]\n",
            "y4 =  [False False False  True  True  True]\n"
          ],
          "name": "stdout"
        }
      ]
    },
    {
      "cell_type": "markdown",
      "metadata": {
        "id": "kvymbu8nU4yF",
        "colab_type": "text"
      },
      "source": [
        "## 1.3 Generating a numpy sequence"
      ]
    },
    {
      "cell_type": "code",
      "metadata": {
        "id": "ppH4U5PYU4yI",
        "colab_type": "code",
        "outputId": "5adfbb42-b1c5-4256-970a-d0e854a39f65",
        "colab": {
          "base_uri": "https://localhost:8080/",
          "height": 34
        }
      },
      "source": [
        "x = [i for i in range(0, 10, 2)] #arguments are (start, stop, step); by default start is zero and step is 1\n",
        "print( x ) \n",
        "#Otherwise, list(range(0, 10, 2)) "
      ],
      "execution_count": 5,
      "outputs": [
        {
          "output_type": "stream",
          "text": [
            "[0, 2, 4, 6, 8]\n"
          ],
          "name": "stdout"
        }
      ]
    },
    {
      "cell_type": "code",
      "metadata": {
        "id": "Q_PdkPiAU4yM",
        "colab_type": "code",
        "outputId": "04677522-2a90-4cc4-a314-54307168219f",
        "colab": {
          "base_uri": "https://localhost:8080/",
          "height": 34
        }
      },
      "source": [
        "#let us use numpy library \n",
        "x = np.arange(0, 10, 2) #arguments are (start, stop, step); by default start is zero and step is 1\n",
        "print( x ) "
      ],
      "execution_count": 6,
      "outputs": [
        {
          "output_type": "stream",
          "text": [
            "[0 2 4 6 8]\n"
          ],
          "name": "stdout"
        }
      ]
    },
    {
      "cell_type": "markdown",
      "metadata": {
        "id": "NUnBLNirU4yQ",
        "colab_type": "text"
      },
      "source": [
        "**Exercise 1.3.1**\n",
        "\n",
        "Use numpy to determine the roots of $x^2+bx+1=0$ for $b \\in (4,11] \\cap \\mathbb{Z}$\n",
        "\n",
        "Hint: $x = \\frac{-b \\pm \\sqrt{b^2 - 4ac}}{2a}$ are roots of $ax^2+bx+c = 0$"
      ]
    },
    {
      "cell_type": "code",
      "metadata": {
        "id": "s6dWxsNEU4yR",
        "colab_type": "code",
        "outputId": "3825f807-afd0-448d-ec4d-be94a5379360",
        "colab": {
          "base_uri": "https://localhost:8080/",
          "height": 67
        }
      },
      "source": [
        "#answer\n",
        "#TODO:\n",
        "b = np.arange(4,11,2)\n",
        "print(b)\n",
        "\n",
        "\n",
        "def quadratic(a,b,c):\n",
        "  discrim = (b**2)-(4*a*c)\n",
        "  one = (-b + np.sqrt(discrim))/ (2* a )\n",
        "  two = (-b - np.sqrt(discrim))/ (2* a )\n",
        "  return one,two\n",
        "\n",
        "one, two = quadratic(1,b,4)\n",
        "\n",
        "print(one)\n",
        "print(two)\n",
        "#-b + np.sqr((b**2) - "
      ],
      "execution_count": 7,
      "outputs": [
        {
          "output_type": "stream",
          "text": [
            "[ 4  6  8 10]\n",
            "[-2.         -0.76393202 -0.53589838 -0.41742431]\n",
            "[-2.         -5.23606798 -7.46410162 -9.58257569]\n"
          ],
          "name": "stdout"
        }
      ]
    },
    {
      "cell_type": "code",
      "metadata": {
        "id": "7m4izFpTZZqo",
        "colab_type": "code",
        "colab": {}
      },
      "source": [
        ""
      ],
      "execution_count": 0,
      "outputs": []
    },
    {
      "cell_type": "markdown",
      "metadata": {
        "id": "GEDF2aQwU4yU",
        "colab_type": "text"
      },
      "source": [
        "**Exercise 1.3.2**\n",
        "\n",
        "Plot $sin(2\\pi ft)exp(-t/2)$ for t=0 to t=10 with a step size of 1/50. Use numpy to define arrays and make calculations. \n",
        "\n",
        "Hint: If python lists were used as in section 8 of tutorial 1,"
      ]
    },
    {
      "cell_type": "code",
      "metadata": {
        "id": "DMouSmfqU4yV",
        "colab_type": "code",
        "outputId": "aaf8637b-5145-4bed-d3ad-05f1c2585a9b",
        "colab": {
          "base_uri": "https://localhost:8080/",
          "height": 322
        }
      },
      "source": [
        "import math\n",
        "import matplotlib.pyplot as pl\n",
        "%matplotlib inline \n",
        "\n",
        "t = [i/50 for i in range(501)] #generate values from 0 to 10\n",
        "f = 1 \n",
        "y = [math.sin(2*math.pi*f*i)*math.exp(-i/2) for i in t] # y = sin(2Pi*f*t)*exp(-t/2)\n",
        "\n",
        "print(t)\n",
        "print(y)\n",
        "pl.scatter(t,y)\n",
        "pl.show()"
      ],
      "execution_count": 8,
      "outputs": [
        {
          "output_type": "stream",
          "text": [
            "[0.0, 0.02, 0.04, 0.06, 0.08, 0.1, 0.12, 0.14, 0.16, 0.18, 0.2, 0.22, 0.24, 0.26, 0.28, 0.3, 0.32, 0.34, 0.36, 0.38, 0.4, 0.42, 0.44, 0.46, 0.48, 0.5, 0.52, 0.54, 0.56, 0.58, 0.6, 0.62, 0.64, 0.66, 0.68, 0.7, 0.72, 0.74, 0.76, 0.78, 0.8, 0.82, 0.84, 0.86, 0.88, 0.9, 0.92, 0.94, 0.96, 0.98, 1.0, 1.02, 1.04, 1.06, 1.08, 1.1, 1.12, 1.14, 1.16, 1.18, 1.2, 1.22, 1.24, 1.26, 1.28, 1.3, 1.32, 1.34, 1.36, 1.38, 1.4, 1.42, 1.44, 1.46, 1.48, 1.5, 1.52, 1.54, 1.56, 1.58, 1.6, 1.62, 1.64, 1.66, 1.68, 1.7, 1.72, 1.74, 1.76, 1.78, 1.8, 1.82, 1.84, 1.86, 1.88, 1.9, 1.92, 1.94, 1.96, 1.98, 2.0, 2.02, 2.04, 2.06, 2.08, 2.1, 2.12, 2.14, 2.16, 2.18, 2.2, 2.22, 2.24, 2.26, 2.28, 2.3, 2.32, 2.34, 2.36, 2.38, 2.4, 2.42, 2.44, 2.46, 2.48, 2.5, 2.52, 2.54, 2.56, 2.58, 2.6, 2.62, 2.64, 2.66, 2.68, 2.7, 2.72, 2.74, 2.76, 2.78, 2.8, 2.82, 2.84, 2.86, 2.88, 2.9, 2.92, 2.94, 2.96, 2.98, 3.0, 3.02, 3.04, 3.06, 3.08, 3.1, 3.12, 3.14, 3.16, 3.18, 3.2, 3.22, 3.24, 3.26, 3.28, 3.3, 3.32, 3.34, 3.36, 3.38, 3.4, 3.42, 3.44, 3.46, 3.48, 3.5, 3.52, 3.54, 3.56, 3.58, 3.6, 3.62, 3.64, 3.66, 3.68, 3.7, 3.72, 3.74, 3.76, 3.78, 3.8, 3.82, 3.84, 3.86, 3.88, 3.9, 3.92, 3.94, 3.96, 3.98, 4.0, 4.02, 4.04, 4.06, 4.08, 4.1, 4.12, 4.14, 4.16, 4.18, 4.2, 4.22, 4.24, 4.26, 4.28, 4.3, 4.32, 4.34, 4.36, 4.38, 4.4, 4.42, 4.44, 4.46, 4.48, 4.5, 4.52, 4.54, 4.56, 4.58, 4.6, 4.62, 4.64, 4.66, 4.68, 4.7, 4.72, 4.74, 4.76, 4.78, 4.8, 4.82, 4.84, 4.86, 4.88, 4.9, 4.92, 4.94, 4.96, 4.98, 5.0, 5.02, 5.04, 5.06, 5.08, 5.1, 5.12, 5.14, 5.16, 5.18, 5.2, 5.22, 5.24, 5.26, 5.28, 5.3, 5.32, 5.34, 5.36, 5.38, 5.4, 5.42, 5.44, 5.46, 5.48, 5.5, 5.52, 5.54, 5.56, 5.58, 5.6, 5.62, 5.64, 5.66, 5.68, 5.7, 5.72, 5.74, 5.76, 5.78, 5.8, 5.82, 5.84, 5.86, 5.88, 5.9, 5.92, 5.94, 5.96, 5.98, 6.0, 6.02, 6.04, 6.06, 6.08, 6.1, 6.12, 6.14, 6.16, 6.18, 6.2, 6.22, 6.24, 6.26, 6.28, 6.3, 6.32, 6.34, 6.36, 6.38, 6.4, 6.42, 6.44, 6.46, 6.48, 6.5, 6.52, 6.54, 6.56, 6.58, 6.6, 6.62, 6.64, 6.66, 6.68, 6.7, 6.72, 6.74, 6.76, 6.78, 6.8, 6.82, 6.84, 6.86, 6.88, 6.9, 6.92, 6.94, 6.96, 6.98, 7.0, 7.02, 7.04, 7.06, 7.08, 7.1, 7.12, 7.14, 7.16, 7.18, 7.2, 7.22, 7.24, 7.26, 7.28, 7.3, 7.32, 7.34, 7.36, 7.38, 7.4, 7.42, 7.44, 7.46, 7.48, 7.5, 7.52, 7.54, 7.56, 7.58, 7.6, 7.62, 7.64, 7.66, 7.68, 7.7, 7.72, 7.74, 7.76, 7.78, 7.8, 7.82, 7.84, 7.86, 7.88, 7.9, 7.92, 7.94, 7.96, 7.98, 8.0, 8.02, 8.04, 8.06, 8.08, 8.1, 8.12, 8.14, 8.16, 8.18, 8.2, 8.22, 8.24, 8.26, 8.28, 8.3, 8.32, 8.34, 8.36, 8.38, 8.4, 8.42, 8.44, 8.46, 8.48, 8.5, 8.52, 8.54, 8.56, 8.58, 8.6, 8.62, 8.64, 8.66, 8.68, 8.7, 8.72, 8.74, 8.76, 8.78, 8.8, 8.82, 8.84, 8.86, 8.88, 8.9, 8.92, 8.94, 8.96, 8.98, 9.0, 9.02, 9.04, 9.06, 9.08, 9.1, 9.12, 9.14, 9.16, 9.18, 9.2, 9.22, 9.24, 9.26, 9.28, 9.3, 9.32, 9.34, 9.36, 9.38, 9.4, 9.42, 9.44, 9.46, 9.48, 9.5, 9.52, 9.54, 9.56, 9.58, 9.6, 9.62, 9.64, 9.66, 9.68, 9.7, 9.72, 9.74, 9.76, 9.78, 9.8, 9.82, 9.84, 9.86, 9.88, 9.9, 9.92, 9.94, 9.96, 9.98, 10.0]\n",
            "[0.0, 0.12408614705358509, 0.24376549746379733, 0.35724482794238815, 0.46286384234975814, 0.5591186272681762, 0.6446821859313787, 0.7184217857198374, 0.7794129097416277, 0.826949660525741, 0.8605515226107812, 0.8799664498693388, 0.8851703018329985, 0.8763627101694611, 0.8539595109482371, 0.8185819296062667, 0.7710427528475228, 0.7123297644158626, 0.6435867591885183, 0.5660924818622236, 0.48123786225754817, 0.3905019386651064, 0.295426873520983, 0.19759247195523977, 0.09859061343924365, 9.537558861618481e-17, -0.09663838849364557, -0.18984476031059608, -0.2782225517497415, -0.3604787228774307, -0.4354420247462645, -0.5020789912355429, -0.5595074492941665, -0.607007384442742, -0.6440290431780796, -0.6701981996825662, -0.6853185602348052, -0.6893713242190911, -0.6825119649345549, -0.665064335837761, -0.6375122477854621, -0.6004886996991827, -0.5547629783321435, -0.5012258720304059, -0.44087326816513495, -0.3747884239697875, -0.30412321562328637, -0.23007868043847876, -0.15388517188775563, -0.07678244694997319, -1.485571662003618e-16, 0.07526205263360974, 0.14785124799189533, 0.21667994117082306, 0.28074111165752336, 0.33912258985458915, 0.3910195115379421, 0.43574483964458083, 0.4727378263341325, 0.5015703231478159, 0.5219508827258282, 0.533726631364234, 0.5368829271287995, 0.5315408527466347, 0.517952625543312, 0.4964950377929294, 0.46766106955125275, 0.4320498419440979, 0.39035510163292736, 0.34335244648225693, 0.29188551807376817, 0.2368513984776096, 0.17918545649352247, 0.11984589236926191, 0.05979822981077736, 1.735446560515659e-16, -0.0586141455266161, -0.11514666771417251, -0.1687505078597025, -0.21864139759921586, -0.2641089385359565, -0.3045263017819475, -0.339358422334523, -0.36816858933649615, -0.3906233604328964, -0.4064957561916861, -0.41566671845252845, -0.41812484406557704, -0.41396443235352137, -0.4033819103670216, -0.38667072422420024, -0.3642148071785264, -0.33648075523194015, -0.3040088588276416, -0.2674031541898644, -0.2273206700430534, -0.18446005460591977, -0.13954977383216247, -0.09333607482507253, -0.04657090820291728, -1.8020895204108955e-16, 0.04564874243518985, 0.08967631498386036, 0.13142302766483355, 0.17027809166209565, 0.20568824814796044, 0.2371653222936196, 0.2642926050560034, 0.286729985677558, 0.30421777899112357, 0.31657921323728816, 0.32372156582755046, 0.3256359559798805, 0.3223958240806321, 0.3141541476706758, 0.3011394628165946, 0.2836507770368374, 0.26205147566309306, 0.2367623373156119, 0.20825378587883, 0.1770375158378465, 0.14365763497248443, 0.10868147313792562, 0.07269020816257775, 0.03626945977677853, 1.7543359120759724e-16, -0.035551276354750694, -0.06983998433238837, -0.1023523568589877, -0.1326127111263445, -0.16019016872621702, -0.1847045387196527, -0.20583128777759724, -0.22330553737573486, -0.2369250445025306, -0.24655213917332913, -0.25211460896359766, -0.2536055375133364, -0.2510821202529472, -0.24466349621105216, -0.2345276494552659, -0.22090744727510145, -0.20408589445143407, -0.18439069370321495, -0.1621882115200172, -0.13787695596753108, -0.11188067861075694, -0.08464121638517072, -0.05661119103863861, -0.02824668367573196, -1.6395338185140652e-16, 0.027687361864267734, 0.0543914344877583, 0.07971209567098347, 0.10327888327041909, 0.12475622884431825, 0.14384803939170812, 0.16030156810178844, 0.17391052737240315, 0.18451741018779824, 0.19201499905611868, 0.1963470548845909, 0.19750819120663093, 0.19554295186822393, 0.1905441224381551, 0.18265031704765705, 0.1720428929241541, 0.15894225441260498, 0.14360361664714338, 0.12631230613674005, 0.10737868127501485, 0.08713276011261771, 0.0659186456008872, 0.044088839911496674, 0.021998539365830346, 1.4896819253526057e-16, -0.021562939101073042, -0.04236009177144316, -0.06207984252882465, -0.0804336751657426, -0.09716024871699044, -0.11202896572154857, -0.12484298676524694, -0.13544165490198853, -0.1437023035445649, -0.1495414316263603, -0.15291524009788351, -0.15381953397474094, -0.15228900403906684, -0.14839591176448885, -0.14224820994495568, -0.13398713973120108, -0.12378435219967121, -0.11183860909668109, -0.09837212293084818, -0.08362660106215639, -0.06785906180687956, -0.05133749281297739, -0.034336423047783435, -0.017132479684535813, -1.3259033714193455e-16, 0.016793233857236214, 0.032990072642576494, 0.0483478299743977, 0.06264180920439133, 0.07566847778420424, 0.08724824623062159, 0.0972278158537471, 0.10548206689815566, 0.11191546652967169, 0.11646298405222835, 0.11909050873178349, 0.1197947735112068, 0.11860279559878958, 0.11557085228677892, 0.1107830172956371, 0.10434928934415696, 0.09640335042509053, 0.08709999634211173, 0.07661228637094109, 0.06512846239280705, 0.05284869047368867, 0.03998167960366905, 0.026741233157484782, 0.013342788594271062, 1.1616914069307022e-16, -0.01307858367831678, -0.02569269440762109, -0.037653327843864055, -0.04878549006138949, -0.05893066975215946, -0.06794900248601483, -0.07572109912322057, -0.08214951630027392, -0.0871598529711099, -0.09070146317870798, -0.09274778145668496, -0.09329626341838945, -0.0923679500867951, -0.09000667026117308, -0.08627790062085516, -0.08126730825417404, -0.07507900480176756, -0.06783354535675311, -0.059665708618579644, -0.050722097511754674, -0.04115860152520704, -0.031137763383847484, -0.020826093323344178, -0.010391374205574523, -1.0052513082277256e-16, 0.010185611210137991, 0.020009490523869605, 0.02932444121004565, 0.03799417786233237, 0.04589525174990414, 0.05291873634502938, 0.05897165129219147, 0.06397810762359048, 0.06788016174628902, 0.07063837054929996, 0.07223204482660177, 0.07265920300787775, 0.07193623185829645, 0.07009726528105129, 0.06719329656527893, 0.06329104330645599, 0.058471587731838214, 0.052828818242348995, 0.04646770059466011, 0.0395024092611789, 0.03205435109795517, 0.02425011450643233, 0.016219377788538835, 0.008092810368489443, 3.132353426289736e-16, -0.00793256198651634, -0.01558340688884971, -0.02283789777751472, -0.029589895471338674, -0.03574325800208477, -0.04121315330465793, -0.04592716820537268, -0.04982620031667876, -0.05286512312302342, -0.05501321829868293, -0.056254373073806235, -0.05658704419987937, -0.056023993702447414, -0.05459180509204678, -0.05233019198218831, -0.04929111408847421, -0.04553771831298406, -0.0411431250158782, -0.036189081610649015, -0.030764507265813097, -0.024963953735933075, -0.018886008167180904, -0.012631664122644826, -0.006302687052228147, -7.316588869876202e-17, 0.006177885486861553, 0.012136369487956307, 0.017786172672833313, 0.023044633764079423, 0.027836877321546737, 0.03209683606650957, 0.03576811456259626, 0.03880468382410219, 0.041171399285376935, 0.04284433749029235, 0.04381094980107128, 0.04407003433456225, 0.04363153016625351, 0.04251614055496751, 0.040754794494005264, 0.03838795825056562, 0.035464810681436955, 0.03204229798037075, 0.028184085097008326, 0.023959422349421285, 0.01944194671810313, 0.01470843794969331, 0.0098375499102109, 0.004908537611729153, -7.602353618464192e-17, -0.004811342054893105, -0.009451814060864401, -0.01385188520544568, -0.017947178821058903, -0.021679381856283333, -0.02499704106271207, -0.027856235630337765, -0.030221118149048987, -0.03206431800359698, -0.033367203587615274, -0.0341200020121763, -0.03432177724974078, -0.033980269860081846, -0.03311160355738263, -0.031739865865845436, -0.029896571946052945, -0.027620022330182296, -0.024954566758519963, -0.02194978754370128, -0.018659616887667728, -0.015141403328491156, -0.011454942992978424, -0.0076614915735761764, -0.0038227729357502185, -5.177358053107478e-17, 0.0037470769599752345, 0.007361080192046406, 0.010787859045016395, 0.013977276919763113, 0.01688391956617738, 0.019467715154108292, 0.021694458122328553, 0.023536230479772848, 0.024971715969851916, 0.025986404282937733, 0.02657268428548083, 0.026729826998500447, 0.02646386077600941, 0.025787342779239494, 0.024719032390901813, 0.023283473642736592, 0.021510495019195608, 0.019434636132743054, 0.017094511727285464, 0.01453212424392811, 0.011792136769028965, 0.008921118572969823, 0.005966775636996181, 0.002977178555866363, 1.2675321567578107e-16, -0.0029182264706574465, -0.005732815017817226, -0.008401593071922628, -0.010885514210317453, -0.01314920977945362, -0.015161471806630536, -0.016895660973979328, -0.01833003472819612, -0.019447991951957344, -0.02023823200476204, -0.02069482732984167, -0.02081721019779533, -0.02061007549544876, -0.02008320274980247, -0.019251201782801732, -0.018133187505585704, -0.016752390365203134, -0.015135709838888066, -0.013313219119433286, -0.011317629740862105, -0.009183725349804809, -0.006947774130501817, -0.004646929538503945, -0.002318628990652185, -3.588830166308336e-17, 0.0022727170605277834, 0.004464720825079379, 0.006543167263460804, 0.008477646991130083, 0.010240614873008603, 0.011807766115518845, 0.013158353997044105, 0.014275445400045215, 0.015146111361350785, 0.015761550933289396, 0.01611714773000823, 0.016212459603405036, 0.01605114293501627, 0.015640814028127975, 0.01499285102351159, 0.014122140628930737, 0.013046774734738031, 0.011787702674867702, 0.010368345475415722, 0.008814178904695673, 0.0071522924939407435, 0.005410931933438117, 0.003619032363464464, 0.0018057500735719333, -2.0980036647904966e-17, -0.0017699938264387279, -0.0034771280747670757, -0.005095823788550408, -0.006602398115295088, -0.007975398882231814, -0.009195897497090042, -0.010247736396828728, -0.011117728056248272, -0.011795803388706673, -0.012275108209265627, -0.012552047273007915, -0.012626276234645363, -0.012500642686981716, -0.012181078212980288, -0.011676444117583727, -0.010998334180455779, -0.010160838379970222, -0.009180272073799836, -0.008074875575408653, -0.006864489433108416, -0.005570210995036748, -0.004214038026907715, -0.0028185052386268438, -0.00140631957132911, -2.4488274694135443e-17, 0.0013784725780620706, 0.002707990067468126, 0.003968631556916986, 0.005141952822340948, 0.0062112468947889115, 0.007161772171778123, 0.007980945130559526, 0.0086584953161811, 0.009186580916081101, 0.00955986388566229, 0.009775544245367864, 0.009833353818817676, 0.009735510313517194, 0.009486633250923072, 0.009093623822263718, 0.008565511272219946, 0.007913268886982778, 0.007149603079883884, 0.006288719421332397, 0.005346069745890246, 0.004338084684807598, 0.003281896115248378, 0.0021950540869334744, 0.0010952427833997233, 5.0868010484569726e-17, -0.0010735555232371677, -0.0021089847850937916, -0.0030907733642488084, -0.004004556884555375, -0.004837323945511459, -0.005577593775559777, -0.0062155663173296925, -0.006743242932461917, -0.007154516411192774, -0.007445229480209842, -0.0076132015132416506, -0.007658223654313397, -0.007582023055766927, -0.00738819740453012, -0.007082121353735756, -0.006670826886211851, -0.006162860005836786, -0.005568116477263281, -0.0048976596098500415, -0.00416352330445365, -0.0033785037495582047, -0.002555943264514462, -0.0017095098417878546, -0.0008529759373650345, -1.6503210450509063e-17]\n"
          ],
          "name": "stdout"
        },
        {
          "output_type": "display_data",
          "data": {
            "image/png": "[encoded data removed]",
            "text/plain": [
              "<Figure size 432x288 with 1 Axes>"
            ]
          },
          "metadata": {
            "tags": []
          }
        }
      ]
    },
    {
      "cell_type": "code",
      "metadata": {
        "id": "EFDEYpOeU4yY",
        "colab_type": "code",
        "outputId": "ebfbad4b-cb02-4d41-86a8-d90d3299dbd9",
        "colab": {
          "base_uri": "https://localhost:8080/",
          "height": 269
        }
      },
      "source": [
        "#answer\n",
        "#TODO\n",
        "import numpy\n",
        "t = np.arange(0,11,0.02)\n",
        "f = 1\n",
        "y = np.sin(2*np.pi*f*t)* np.exp(-t/2)\n",
        "\n",
        "\n",
        "pl.scatter(t,y)\n",
        "pl.show()"
      ],
      "execution_count": 9,
      "outputs": [
        {
          "output_type": "display_data",
          "data": {
            "image/png": "[encoded data removed]",
            "text/plain": [
              "<Figure size 432x288 with 1 Axes>"
            ]
          },
          "metadata": {
            "tags": []
          }
        }
      ]
    },
    {
      "cell_type": "markdown",
      "metadata": {
        "id": "GMHbJLQSU4yc",
        "colab_type": "text"
      },
      "source": [
        "## 1.4 Matrix operations"
      ]
    },
    {
      "cell_type": "code",
      "metadata": {
        "id": "-MkEvqFcU4yd",
        "colab_type": "code",
        "outputId": "cb56c1ea-7035-4ec1-e54a-01f3306c1ff1",
        "colab": {
          "base_uri": "https://localhost:8080/",
          "height": 504
        }
      },
      "source": [
        "# Create a new array with three elements\n",
        "A = np.array([1, 2, 3])\n",
        "print( 'A = \\n {}'.format(A) )\n",
        "print( 'shape of A is {} \\n'.format(A.shape) )\n",
        "\n",
        "B = np.array([[1, 2, 3]])\n",
        "print( 'B = \\n {}'.format(B) )\n",
        "print( 'shape of B is {} \\n'.format(B.shape) )\n",
        "\n",
        "#Create a 2x3 array\n",
        "C = np.array([[1, 2, 3],[4, 5, 6]])\n",
        "print( 'C = \\n {}'.format(C) )\n",
        "print( 'shape of C is {} \\n'.format(C.shape) )\n",
        "\n",
        "#Create a 3x3 array\n",
        "D = np.array([[1, 2, 3],[3, 5, 6],[2, 8, 11]])\n",
        "print( 'D = \\n {}'.format(D) )\n",
        "print( 'shape of D is {} \\n'.format(D.shape) )\n",
        "\n",
        "#Create a 3x2 array\n",
        "E = np.array([[2, 0],[4, 1], [1, 2]])\n",
        "print( 'E = \\n {}'.format(E) )\n",
        "print( 'shape of E is {} \\n'.format(E.shape) )\n",
        "\n",
        "F = np.array([[4, 2, 11, 3]])\n",
        "print( 'F = \\n {}'.format(F) )\n",
        "print( 'shape of F is {} \\n'.format(F.shape) )"
      ],
      "execution_count": 10,
      "outputs": [
        {
          "output_type": "stream",
          "text": [
            "A = \n",
            " [1 2 3]\n",
            "shape of A is (3,) \n",
            "\n",
            "B = \n",
            " [[1 2 3]]\n",
            "shape of B is (1, 3) \n",
            "\n",
            "C = \n",
            " [[1 2 3]\n",
            " [4 5 6]]\n",
            "shape of C is (2, 3) \n",
            "\n",
            "D = \n",
            " [[ 1  2  3]\n",
            " [ 3  5  6]\n",
            " [ 2  8 11]]\n",
            "shape of D is (3, 3) \n",
            "\n",
            "E = \n",
            " [[2 0]\n",
            " [4 1]\n",
            " [1 2]]\n",
            "shape of E is (3, 2) \n",
            "\n",
            "F = \n",
            " [[ 4  2 11  3]]\n",
            "shape of F is (1, 4) \n",
            "\n"
          ],
          "name": "stdout"
        }
      ]
    },
    {
      "cell_type": "markdown",
      "metadata": {
        "id": "NEeZCidUU4yg",
        "colab_type": "text"
      },
      "source": [
        "**Exercise 1.4.1**\n",
        "\n",
        "Perform the following matrix operations.\n",
        "\n",
        "1. $E'$\n",
        "2. $E' \\circ C$ (elementwise matrix multiplication)\n",
        "3. $E \\cdot C$ (matrix multiplication)\n",
        "4. $B' \\cdot F$\n",
        "5. $A' \\cdot F$\n",
        "\n",
        "Hint: Identify the use of A[np.newaxis, :], A[:, np.newaxis], A[:, np.newaxis, :], etc. Alternative to [:, np.newaxis] is [:, None]."
      ]
    },
    {
      "cell_type": "code",
      "metadata": {
        "id": "_hNw7cXxU4yi",
        "colab_type": "code",
        "outputId": "60a608f8-6402-4104-cbc5-004bbaba0e68",
        "colab": {
          "base_uri": "https://localhost:8080/",
          "height": 286
        }
      },
      "source": [
        "#Answers\n",
        "#TODO:\n",
        "print(E.T)\n",
        "print(E.T * C)\n",
        "print(np.matmul(E,C))\n",
        "print(B.T * F)\n",
        "print(A[np.newaxis,:].T* F)\n",
        "\n",
        "print(A.shape)\n",
        "print(A[np.newaxis,:].shape)\n",
        "print(A[:,np.newaxis].shape)"
      ],
      "execution_count": 17,
      "outputs": [
        {
          "output_type": "stream",
          "text": [
            "[[2 4 1]\n",
            " [0 1 2]]\n",
            "[[ 2  8  3]\n",
            " [ 0  5 12]]\n",
            "[[ 2  4  6]\n",
            " [ 8 13 18]\n",
            " [ 9 12 15]]\n",
            "[[ 4  2 11  3]\n",
            " [ 8  4 22  6]\n",
            " [12  6 33  9]]\n",
            "[[ 4  2 11  3]\n",
            " [ 8  4 22  6]\n",
            " [12  6 33  9]]\n",
            "(3,)\n",
            "(1, 3)\n",
            "(3, 1)\n"
          ],
          "name": "stdout"
        }
      ]
    },
    {
      "cell_type": "markdown",
      "metadata": {
        "id": "JcE78018U4yk",
        "colab_type": "text"
      },
      "source": [
        "**Exercise 1.4.2**\n",
        "\n",
        "For random square matrices A and B, show that the following identy is valid.\n",
        "\n",
        "\\begin{equation}\n",
        "(A^\\top B)^{−1}=B^{−1}A^{−\\top}$\n",
        "\\end{equation}\n",
        "\n",
        "Hint: The following numpy methods maybe useful; np.random.random((N,N)), np.linalg.inv() and np.allclose(). "
      ]
    },
    {
      "cell_type": "code",
      "metadata": {
        "id": "wj9e1CydfS0M",
        "colab_type": "code",
        "outputId": "d0ba9f02-b951-42c6-996f-7a4d93986285",
        "colab": {
          "base_uri": "https://localhost:8080/",
          "height": 35
        }
      },
      "source": [
        "A =  np.random.rand(3,3)\n",
        "B = np.random.rand(3,3)\n",
        "\n",
        "np.allclose(np.linalg.inv(np.matmul(A.T, B)), np.matmul(np.linalg.inv(B), np.linalg.inv(A.T)))\n",
        "\n"
      ],
      "execution_count": 0,
      "outputs": [
        {
          "output_type": "execute_result",
          "data": {
            "text/plain": [
              "True"
            ]
          },
          "metadata": {
            "tags": []
          },
          "execution_count": 64
        }
      ]
    },
    {
      "cell_type": "markdown",
      "metadata": {
        "id": "qZn1QJRrU4ym",
        "colab_type": "text"
      },
      "source": [
        "# 2 Matrix Decomposition"
      ]
    },
    {
      "cell_type": "markdown",
      "metadata": {
        "id": "XSNW66ClU4ym",
        "colab_type": "text"
      },
      "source": [
        "## 2.1 Matrix decomposition using numpy"
      ]
    },
    {
      "cell_type": "markdown",
      "metadata": {
        "id": "rId1JczrU4yn",
        "colab_type": "text"
      },
      "source": [
        "**Exercise 2.1.1**\n",
        "\n",
        "Decompose the following matrix $A$ using,\n",
        "1. QR decomposition\n",
        "2. Eigendecomposition\n",
        "\n",
        "Verify,\n",
        "1. Eigenvalues obtained from numpy Eigendecomposition are Eigenvalues of A\n",
        "2. Eigenvector matrix is an orthogonal matrix"
      ]
    },
    {
      "cell_type": "code",
      "metadata": {
        "id": "rJVp6QRoU4yo",
        "colab_type": "code",
        "outputId": "c3b7ad98-2982-42a2-f94f-53a0207d0fa1",
        "colab": {
          "base_uri": "https://localhost:8080/",
          "height": 67
        }
      },
      "source": [
        "A = np.diag((1, 2, 3))\n",
        "print(A)"
      ],
      "execution_count": 23,
      "outputs": [
        {
          "output_type": "stream",
          "text": [
            "[[1 0 0]\n",
            " [0 2 0]\n",
            " [0 0 3]]\n"
          ],
          "name": "stdout"
        }
      ]
    },
    {
      "cell_type": "code",
      "metadata": {
        "id": "XHjGZFWLU4yr",
        "colab_type": "code",
        "outputId": "5aa53d75-612a-4ec9-e5d1-9aca6806f3ed",
        "colab": {
          "base_uri": "https://localhost:8080/",
          "height": 185
        }
      },
      "source": [
        "#TODO\n",
        "Q, R = np.linalg.qr(A)\n",
        "l, v = np.linalg.eig(A)\n",
        "\n",
        "Q.dot(R)\n",
        "print(Q)\n",
        "print(R)\n",
        "\n",
        "print(l)\n",
        "print(v)\n"
      ],
      "execution_count": 35,
      "outputs": [
        {
          "output_type": "stream",
          "text": [
            "[[1. 0. 0.]\n",
            " [0. 1. 0.]\n",
            " [0. 0. 1.]]\n",
            "[[1. 0. 0.]\n",
            " [0. 2. 0.]\n",
            " [0. 0. 3.]]\n",
            "[1. 2. 3.]\n",
            "[[1. 0. 0.]\n",
            " [0. 1. 0.]\n",
            " [0. 0. 1.]]\n"
          ],
          "name": "stdout"
        }
      ]
    },
    {
      "cell_type": "code",
      "metadata": {
        "id": "dtotCpvZU4yt",
        "colab_type": "code",
        "colab": {
          "base_uri": "https://localhost:8080/",
          "height": 84
        },
        "outputId": "25e8520b-184f-4b2f-aa12-c0d59d467a15"
      },
      "source": [
        "print(np.allclose(v.T.dot(A), v.T.dot(l)))\n",
        "\n",
        "print(l.dot(A))\n",
        "print(l.dot(v))\n",
        "\n",
        "#inverse equals UU'\n",
        "print(np.allclose(v.dot(v.T), np.linalg.inv(v)))"
      ],
      "execution_count": 46,
      "outputs": [
        {
          "output_type": "stream",
          "text": [
            "False\n",
            "[1. 4. 9.]\n",
            "[1. 2. 3.]\n",
            "True\n"
          ],
          "name": "stdout"
        }
      ]
    },
    {
      "cell_type": "markdown",
      "metadata": {
        "id": "Rlor-SKVU4yx",
        "colab_type": "text"
      },
      "source": [
        "## 2.2 Singular value decomposition"
      ]
    },
    {
      "cell_type": "markdown",
      "metadata": {
        "id": "ELxxsS7OU4yy",
        "colab_type": "text"
      },
      "source": [
        "A matrix $A$ of size $m \\times n$ can be decomposed into,\n",
        "\n",
        "\\begin{equation}\n",
        "A =  U \\Sigma V'\n",
        "\\end{equation}\n",
        "\n",
        "where\n",
        "\n",
        "$U$ is a $m \\times r$ unitary matrix (i.e for this context, $U^\\top U = I$)\n",
        "\n",
        "$\\Sigma$ is a $r \\times r$ diagonal matrix. Diagonal elements are *called singular values* which are non-negative.\n",
        "\n",
        "$V'$ is a $r \\times n$ unitary matrix"
      ]
    },
    {
      "cell_type": "code",
      "metadata": {
        "id": "4XdpUI7KU4yy",
        "colab_type": "code",
        "colab": {}
      },
      "source": [
        "import numpy as np\n",
        "\n",
        "#user vs movie, a 7x5 matrix\n",
        "A = np.array([[1, 1, 1, 0, 0],\\\n",
        "              [3, 3, 3, 0, 0],\\\n",
        "              [4, 4, 4, 0, 0],\\\n",
        "              [5, 5, 5, 0, 0],\\\n",
        "              [0, 2, 0, 4, 4],\\\n",
        "              [0, 0, 0, 5, 5],\\\n",
        "              [0, 1, 0, 2, 2]])\n",
        "\n",
        "U, s, Vt = np.linalg.svd(A, full_matrices=False)\n",
        "S = np.diag(s)\n",
        "\n",
        "print( 'U = {} \\n\\n s = {} \\n\\n Vt = {} \\n'.format(np.round(U, 2), np.round(S, 2), np.round(Vt, 2)) )\n",
        "\n",
        "A_reconstructed = U.dot(S.dot(Vt))\n",
        "\n",
        "print( 'A_reconstructed = {} \\n'.format(np.round(A_reconstructed, 2)) )\n",
        "print( 'Is A close to A_reconstructed? ', np.allclose(A, A_reconstructed) )"
      ],
      "execution_count": 0,
      "outputs": []
    },
    {
      "cell_type": "markdown",
      "metadata": {
        "id": "OCG6NtYuU4y1",
        "colab_type": "text"
      },
      "source": [
        "**Exercise 2.2.1**\n",
        "\n",
        "1. What is the rank of $A$?\n",
        "    Hint: Perform EROs. Why are some of the singular values close to zero?\n",
        "\n",
        "2. Calculate the compression ratio.\n",
        "\n",
        "3. Reconstruct the matrix using only the most significant singular values."
      ]
    },
    {
      "cell_type": "code",
      "metadata": {
        "id": "EcdGW-dwU4y2",
        "colab_type": "code",
        "colab": {}
      },
      "source": [
        "#TODO "
      ],
      "execution_count": 0,
      "outputs": []
    },
    {
      "cell_type": "markdown",
      "metadata": {
        "id": "iBb4Cw4pU4y4",
        "colab_type": "text"
      },
      "source": [
        "**Exercise 2.2.2**\n",
        "Make use of SVD to compress a gray-scale image."
      ]
    },
    {
      "cell_type": "code",
      "metadata": {
        "id": "FweaSSoAU4y5",
        "colab_type": "code",
        "colab": {}
      },
      "source": [
        "import numpy as np\n",
        "import matplotlib.pyplot as pl\n",
        "from scipy import misc\n",
        "%matplotlib inline\n",
        "\n",
        "A = misc.face(gray=True)"
      ],
      "execution_count": 0,
      "outputs": []
    },
    {
      "cell_type": "code",
      "metadata": {
        "id": "4VZJ4kejU4y8",
        "colab_type": "code",
        "colab": {}
      },
      "source": [
        "#TODO"
      ],
      "execution_count": 0,
      "outputs": []
    }
  ]
}