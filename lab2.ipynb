{
 "cells": [
  {
   "cell_type": "markdown",
   "metadata": {},
   "source": [
    "# COMP5318 - Machine Learning and Data Mining \n",
    "\n",
    "## Tutorial 2 - Matrix Decomposition"
   ]
  },
  {
   "cell_type": "markdown",
   "metadata": {},
   "source": [
    "**Semester 1, 2019**\n",
    "\n",
    "**Objectives:**\n",
    "\n",
    "* To perform linear algebraic calculations in python.\n",
    "* To become familiar matrix decomposition techniques.\n",
    "* To use SVD as a compression technique.\n",
    "\n",
    "\n",
    "\n",
    "**Instructions:**\n",
    "* Exercises to be completed on IPython notebook such as: \n",
    "   * Ipython 3 (Jupyter) notebook installed on your computer http://jupyter.org/install (you need to have Python installed first https://docs.python.org/3/using/index.html )\n",
    "   * Web-based Ipython notebooks such as Google Colaboratory https://colab.research.google.com/ \n",
    "   \n",
    "* If you are using Jupyter intalled on your computer, Go to File->Open. Drag and drop \"lab2.ipynb\" file to the home interface and click upload. \n",
    "* If you are using Google Colaboratory, Click File->Upload notebook, and and upload \"lab2.ipynb\" file\n",
    "* Complete exercises in \"lab2.ipynb\".\n",
    "* To run the cell you can press Ctrl-Enter or hit the Play button at the top.\n",
    "* Complete all exercises marked with **TODO**.\n",
    "* Save your file when you are done with the exercises, so you can show your tutor next week.\n",
    "\n",
    "Lecturers: Nguyen Hoang Tran\n",
    "\n",
    "Tutors: Fengxiang He, Shaojun Zhang, Fangzhou Shi, Lin Yang, Iwan Budiman, Qian Wang, Canh Dinh, Yixuan Zhang, Xiaoxin Ye, Sheung Yat Law, Dai Hoang Tran\n"
   ]
  },
  {
   "cell_type": "markdown",
   "metadata": {},
   "source": [
    "# 1. Numpy library"
   ]
  },
  {
   "cell_type": "markdown",
   "metadata": {},
   "source": [
    "## 1.1 Defining numpy arrays"
   ]
  },
  {
   "cell_type": "code",
   "execution_count": null,
   "metadata": {},
   "outputs": [],
   "source": [
    "x_list = [1, 2, 3, 6, 9, 13] #define a python list\n",
    "\n",
    "print( x_list )\n",
    "print( x_list[0] ) #slicing\n",
    "print( x_list[1:-2] ) #slicing "
   ]
  },
  {
   "cell_type": "code",
   "execution_count": null,
   "metadata": {},
   "outputs": [],
   "source": [
    "#let us use numpy library \n",
    "import numpy as np\n",
    "\n",
    "x = np.array([1, 2, 3, 6, 9, 13]) #define a numpy array\n",
    "\n",
    "print( x )\n",
    "print( x[0] ) #slicing\n",
    "print( x[1:-2] ) #slicing "
   ]
  },
  {
   "cell_type": "markdown",
   "metadata": {},
   "source": [
    "## 1.2 Numpy operations and slicing"
   ]
  },
  {
   "cell_type": "code",
   "execution_count": null,
   "metadata": {},
   "outputs": [],
   "source": [
    "import math\n",
    "y1_list = [2*x_i for x_i in x_list]\n",
    "y2_list = [x_i**2 + 2*x_i + 1 for x_i in x_list]\n",
    "y3_list = [math.log10(x_i) for x_i in x_list]\n",
    "y4_list = [x_i > 4 for x_i in x_list]\n",
    "\n",
    "print( 'x_list = ', x_list )\n",
    "print( 'y1_list = ', y1_list )\n",
    "print( 'y2_list = ',  y2_list )\n",
    "print( 'y3_list = ',  y3_list, '\\n and rounded y3_list = ',  [round(y3_i, 4) for y3_i in y3_list] )\n",
    "print( 'y4_list = ',  y4_list )"
   ]
  },
  {
   "cell_type": "code",
   "execution_count": null,
   "metadata": {},
   "outputs": [],
   "source": [
    "#let us use numpy library \n",
    "y1 = 2*x\n",
    "y2 = x**2 + 2*x + 1\n",
    "y3 = np.log10(x)\n",
    "y4 = x > 4\n",
    "print( 'x = ', x )\n",
    "print( 'y1 = ', y1 )\n",
    "print( 'y2 = ',  y2 )\n",
    "print('y3 = ',  y3, '\\n and rounded y3 = ',  np.round(y3, 4) )\n",
    "print( 'y4 = ',  y4 )"
   ]
  },
  {
   "cell_type": "markdown",
   "metadata": {},
   "source": [
    "## 1.3 Generating a numpy sequence"
   ]
  },
  {
   "cell_type": "code",
   "execution_count": null,
   "metadata": {},
   "outputs": [],
   "source": [
    "x = [i for i in range(0, 10, 2)] #arguments are (start, stop, step); by default start is zero and step is 1\n",
    "print( x ) \n",
    "#Otherwise, list(range(0, 10, 2)) "
   ]
  },
  {
   "cell_type": "code",
   "execution_count": null,
   "metadata": {},
   "outputs": [],
   "source": [
    "#let us use numpy library \n",
    "x = np.arange(0, 10, 2) #arguments are (start, stop, step); by default start is zero and step is 1\n",
    "print( x ) "
   ]
  },
  {
   "cell_type": "markdown",
   "metadata": {},
   "source": [
    "**Exercise 1.3.1**\n",
    "\n",
    "Use numpy to determine the roots of $x^2+bx+1=0$ for $b \\in (4,11] \\cap \\mathbb{Z}$\n",
    "\n",
    "Hint: $x = \\frac{-b \\pm \\sqrt{b^2 - 4ac}}{2a}$ are roots of $ax^2+bx+c = 0$"
   ]
  },
  {
   "cell_type": "code",
   "execution_count": null,
   "metadata": {},
   "outputs": [],
   "source": [
    "#answer\n",
    "#TODO:"
   ]
  },
  {
   "cell_type": "markdown",
   "metadata": {},
   "source": [
    "**Exercise 1.3.2**\n",
    "\n",
    "Plot $sin(2\\pi ft)exp(-t/2)$ for t=0 to t=10 with a step size of 1/50. Use numpy to define arrays and make calculations. \n",
    "\n",
    "Hint: If python lists were used as in section 8 of tutorial 1,"
   ]
  },
  {
   "cell_type": "code",
   "execution_count": null,
   "metadata": {},
   "outputs": [],
   "source": [
    "import math\n",
    "import matplotlib.pyplot as pl\n",
    "%matplotlib inline \n",
    "\n",
    "t = [i/50 for i in range(501)] #generate values from 0 to 10\n",
    "f = 1 \n",
    "y = [math.sin(2*math.pi*f*i)*math.exp(-i/2) for i in t] # y = sin(2Pi*f*t)*exp(-t/2)\n",
    "pl.scatter(t,y)\n",
    "pl.show()"
   ]
  },
  {
   "cell_type": "code",
   "execution_count": null,
   "metadata": {},
   "outputs": [],
   "source": [
    "#answer\n",
    "#TODO"
   ]
  },
  {
   "cell_type": "markdown",
   "metadata": {},
   "source": [
    "## 1.4 Matrix operations"
   ]
  },
  {
   "cell_type": "code",
   "execution_count": null,
   "metadata": {},
   "outputs": [],
   "source": [
    "# Create a new array with three elements\n",
    "A = np.array([1, 2, 3])\n",
    "print( 'A = \\n {}'.format(A) )\n",
    "print( 'shape of A is {} \\n'.format(A.shape) )\n",
    "\n",
    "B = np.array([[1, 2, 3]])\n",
    "print( 'B = \\n {}'.format(B) )\n",
    "print( 'shape of B is {} \\n'.format(B.shape) )\n",
    "\n",
    "#Create a 2x3 array\n",
    "C = np.array([[1, 2, 3],[4, 5, 6]])\n",
    "print( 'C = \\n {}'.format(C) )\n",
    "print( 'shape of C is {} \\n'.format(C.shape) )\n",
    "\n",
    "#Create a 3x3 array\n",
    "D = np.array([[1, 2, 3],[3, 5, 6],[2, 8, 11]])\n",
    "print( 'D = \\n {}'.format(D) )\n",
    "print( 'shape of D is {} \\n'.format(D.shape) )\n",
    "\n",
    "#Create a 3x2 array\n",
    "E = np.array([[2, 0],[4, 1], [1, 2]])\n",
    "print( 'E = \\n {}'.format(E) )\n",
    "print( 'shape of E is {} \\n'.format(E.shape) )\n",
    "\n",
    "F = np.array([[4, 2, 11, 3]])\n",
    "print( 'F = \\n {}'.format(F) )\n",
    "print( 'shape of F is {} \\n'.format(F.shape) )"
   ]
  },
  {
   "cell_type": "markdown",
   "metadata": {},
   "source": [
    "**Exercise 1.4.1**\n",
    "\n",
    "Perform the following matrix operations.\n",
    "\n",
    "1. $E'$\n",
    "2. $E' \\circ C$ (elementwise matrix multiplication)\n",
    "3. $E \\cdot C$ (matrix multiplication)\n",
    "4. $B' \\cdot F$\n",
    "5. $A' \\cdot F$\n",
    "\n",
    "Hint: Identify the use of A[np.newaxis, :], A[:, np.newaxis], A[:, np.newaxis, :], etc. Alternative to [:, np.newaxis] is [:, None]."
   ]
  },
  {
   "cell_type": "code",
   "execution_count": null,
   "metadata": {},
   "outputs": [],
   "source": [
    "#Answers\n",
    "#TODO:"
   ]
  },
  {
   "cell_type": "markdown",
   "metadata": {},
   "source": [
    "**Exercise 1.4.2**\n",
    "\n",
    "For random square matrices A and B, show that the following identy is valid.\n",
    "\n",
    "\\begin{equation}\n",
    "(A^\\top B)^{−1}=B^{−1}A^{−\\top}$\n",
    "\\end{equation}\n",
    "\n",
    "Hint: The following numpy methods maybe useful; np.random.random((N,N)), np.linalg.inv() and np.allclose(). "
   ]
  },
  {
   "cell_type": "markdown",
   "metadata": {},
   "source": [
    "# 2 Matrix Decomposition"
   ]
  },
  {
   "cell_type": "markdown",
   "metadata": {},
   "source": [
    "## 2.1 Matrix decomposition using numpy"
   ]
  },
  {
   "cell_type": "markdown",
   "metadata": {},
   "source": [
    "**Exercise 2.1.1**\n",
    "\n",
    "Decompose the following matrix $A$ using,\n",
    "1. QR decomposition\n",
    "2. Eigendecomposition\n",
    "\n",
    "Verify,\n",
    "1. Eigenvalues obtained from numpy Eigendecomposition are Eigenvalues of A\n",
    "2. Eigenvector matrix is an orthogonal matrix"
   ]
  },
  {
   "cell_type": "code",
   "execution_count": null,
   "metadata": {},
   "outputs": [],
   "source": [
    "A = np.diag((1, 2, 3))\n",
    "print(A)"
   ]
  },
  {
   "cell_type": "code",
   "execution_count": null,
   "metadata": {},
   "outputs": [],
   "source": [
    "#TODO"
   ]
  },
  {
   "cell_type": "code",
   "execution_count": null,
   "metadata": {},
   "outputs": [],
   "source": [
    "#TODO"
   ]
  },
  {
   "cell_type": "markdown",
   "metadata": {},
   "source": [
    "## 2.2 Singular value decomposition"
   ]
  },
  {
   "cell_type": "markdown",
   "metadata": {},
   "source": [
    "A matrix $A$ of size $m \\times n$ can be decomposed into,\n",
    "\n",
    "\\begin{equation}\n",
    "A =  U \\Sigma V'\n",
    "\\end{equation}\n",
    "\n",
    "where\n",
    "\n",
    "$U$ is a $m \\times r$ unitary matrix (i.e for this context, $U^\\top U = I$)\n",
    "\n",
    "$\\Sigma$ is a $r \\times r$ diagonal matrix. Diagonal elements are *called singular values* which are non-negative.\n",
    "\n",
    "$V'$ is a $r \\times n$ unitary matrix"
   ]
  },
  {
   "cell_type": "code",
   "execution_count": null,
   "metadata": {},
   "outputs": [],
   "source": [
    "import numpy as np\n",
    "\n",
    "#user vs movie, a 7x5 matrix\n",
    "A = np.array([[1, 1, 1, 0, 0],\\\n",
    "              [3, 3, 3, 0, 0],\\\n",
    "              [4, 4, 4, 0, 0],\\\n",
    "              [5, 5, 5, 0, 0],\\\n",
    "              [0, 2, 0, 4, 4],\\\n",
    "              [0, 0, 0, 5, 5],\\\n",
    "              [0, 1, 0, 2, 2]])\n",
    "\n",
    "U, s, Vt = np.linalg.svd(A, full_matrices=False)\n",
    "S = np.diag(s)\n",
    "\n",
    "print( 'U = {} \\n\\n s = {} \\n\\n Vt = {} \\n'.format(np.round(U, 2), np.round(S, 2), np.round(Vt, 2)) )\n",
    "\n",
    "A_reconstructed = U.dot(S.dot(Vt))\n",
    "\n",
    "print( 'A_reconstructed = {} \\n'.format(np.round(A_reconstructed, 2)) )\n",
    "print( 'Is A close to A_reconstructed? ', np.allclose(A, A_reconstructed) )"
   ]
  },
  {
   "cell_type": "markdown",
   "metadata": {},
   "source": [
    "**Exercise 2.2.1**\n",
    "\n",
    "1. What is the rank of $A$?\n",
    "    Hint: Perform EROs. Why are some of the singular values close to zero?\n",
    "\n",
    "2. Calculate the compression ratio.\n",
    "\n",
    "3. Reconstruct the matrix using only the most significant singular values."
   ]
  },
  {
   "cell_type": "code",
   "execution_count": null,
   "metadata": {},
   "outputs": [],
   "source": [
    "#TODO "
   ]
  },
  {
   "cell_type": "markdown",
   "metadata": {},
   "source": [
    "**Exercise 2.2.2**\n",
    "Make use of SVD to compress a gray-scale image."
   ]
  },
  {
   "cell_type": "code",
   "execution_count": null,
   "metadata": {},
   "outputs": [],
   "source": [
    "import numpy as np\n",
    "import matplotlib.pyplot as pl\n",
    "from scipy import misc\n",
    "%matplotlib inline\n",
    "\n",
    "A = misc.face(gray=True)"
   ]
  },
  {
   "cell_type": "code",
   "execution_count": null,
   "metadata": {},
   "outputs": [],
   "source": [
    "#TODO"
   ]
  }
 ],
 "metadata": {
  "kernelspec": {
   "display_name": "Python 3",
   "language": "python",
   "name": "python3"
  },
  "language_info": {
   "codemirror_mode": {
    "name": "ipython",
    "version": 3
   },
   "file_extension": ".py",
   "mimetype": "text/x-python",
   "name": "python",
   "nbconvert_exporter": "python",
   "pygments_lexer": "ipython3",
   "version": "3.6.8"
  }
 },
 "nbformat": 4,
 "nbformat_minor": 1
}
