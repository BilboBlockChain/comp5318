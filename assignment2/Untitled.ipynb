{
 "cells": [
  {
   "cell_type": "code",
   "execution_count": null,
   "metadata": {},
   "outputs": [],
   "source": []
  },
  {
   "cell_type": "code",
   "execution_count": null,
   "metadata": {},
   "outputs": [],
   "source": [
    "import pandas as pd\n",
    "import numpy as np\n",
    "from sklearn.model_selection import KFold\n",
    "from sklearn.linear_model import SGDRegressor\n",
    "from sklearn.preprocessing import MinMaxScaler\n",
    "from sklearn.metrics import mean_absolute_error\n",
    "from sklearn.compose import TransformedTargetRegressor\n",
    "from sklearn.pipeline import Pipeline\n",
    "from sklearn.model_selection import GridSearchCV\n",
    "from sklearn.ensemble import RandomForestRegressor\n",
    "from datetime import datetime\n",
    "from sklearn.svm import SVR"
   ]
  },
  {
   "cell_type": "code",
   "execution_count": null,
   "metadata": {},
   "outputs": [],
   "source": []
  },
  {
   "cell_type": "code",
   "execution_count": null,
   "metadata": {},
   "outputs": [],
   "source": [
    "\n",
    "raw = pd.read_csv('assignment2/forestfires.csv')\n",
    "\n",
    "# subset X columns and Y column\n",
    "X = raw.iloc[:, 0:12]\n",
    "y = np.array(raw.iloc[:, 12])\n",
    "\n",
    "\n",
    "# cos sin transform categorical sequential features\n",
    "# Encode Data\n",
    "monthDict = dict(zip(['jan','feb','mar','apr','may','jun','jul','aug','sep','oct','nov','dec'],[0,1,2,3,4,5,6,7,8,9,10,11]))\n",
    "dayDict = dict(zip(['mon','tue','wed','thu','fri','sat','sun'],[0,1,2,3,4,5,6]))\n",
    "\n",
    "X['month'] = X['month'].map(monthDict).astype(float)\n",
    "X['day'] = X['day'].map(dayDict).astype(float)\n",
    "\n",
    "\n",
    "# map each cyclical variable onto a circle so lowest value for that variable appears right next to the largest value.\n",
    "X['day_sin'] = np.sin(X.day*(2.*np.pi/7))\n",
    "X['day_cos'] = np.cos(X.day*(2.*np.pi/7))\n",
    "X['mnth_sin'] = np.sin(X.month*(2.*np.pi/12))\n",
    "X['mnth_cos'] = np.cos(X.month*(2.*np.pi/12))\n",
    "\n",
    "\n",
    "\n",
    "# drop original cat ONLY USE FOR cos sin transform\n",
    "X = X.drop(['month', 'day'], 1)\n",
    "\n",
    "# fix int warning\n",
    "X['X'] = X['X'].astype(float)\n",
    "X['Y'] = X['Y'].astype(float)\n",
    "X['RH'] = X['RH'].astype(float)\n"
   ]
  },
  {
   "cell_type": "code",
   "execution_count": null,
   "metadata": {},
   "outputs": [],
   "source": []
  },
  {
   "cell_type": "code",
   "execution_count": null,
   "metadata": {},
   "outputs": [],
   "source": [
    "# define negative log likelihood of sample\n",
    "def negative_log_likelihood(y, p):\n",
    "    result = 0.5 * np.log(2 * np.pi * np.var(p)) + (((y - np.mean(p)) ** 2) / (2 * np.var(p)))\n",
    "    return result\n"
   ]
  },
  {
   "cell_type": "code",
   "execution_count": null,
   "metadata": {},
   "outputs": [],
   "source": [
    "#feature selection list\n",
    "STFWIM = ['X', 'Y', 'FFMC', 'DMC', 'DC', 'ISI', 'temp', 'RH', 'wind', 'rain',\n",
    "       'day_sin', 'day_cos', 'mnth_sin', 'mnth_cos']\n",
    "\n",
    "STFWI = ['X', 'Y', 'FFMC', 'DMC', 'DC', 'ISI', 'day_sin', 'day_cos', 'mnth_sin', 'mnth_cos']\n",
    "\n",
    "STM = ['X', 'Y', 'temp', 'RH', 'wind', 'rain', 'day_sin', 'day_cos', 'mnth_sin', 'mnth_cos']\n",
    "\n",
    "FWI = ['FFMC', 'DMC', 'DC', 'ISI']\n",
    "\n",
    "M = ['temp', 'RH', 'wind', 'rain']"
   ]
  },
  {
   "cell_type": "code",
   "execution_count": null,
   "metadata": {},
   "outputs": [],
   "source": []
  },
  {
   "cell_type": "code",
   "execution_count": null,
   "metadata": {},
   "outputs": [],
   "source": [
    "\n",
    "\n",
    "def nested_crossval(model , parameters):\n",
    "    # build pipeline\n",
    "    pipeline = Pipeline([('scaler', MinMaxScaler()),\n",
    "                         ('estimator',\n",
    "                          TransformedTargetRegressor(regressor=model\n",
    "                                                     , func=np.log1p, inverse_func=np.expm1))])\n",
    "\n",
    "    # define outer and inner folds\n",
    "    outer_kv = KFold(n_splits=10, shuffle=True, random_state=42)\n",
    "    inner_kv = KFold(n_splits=10, shuffle=True, random_state=42)\n",
    "\n",
    "    cv = GridSearchCV(estimator=pipeline, param_grid=parameters, cv=inner_kv, iid=True,\n",
    "                      scoring=\"neg_mean_squared_error\", n_jobs=-1, verbose=True)\n",
    "\n",
    "    feature_space = [STFWIM, STFWI, STM, FWI, M]\n",
    "    inner_result = []\n",
    "    outer_result = []\n",
    "    saving_inner_results = []\n",
    "    i = 0\n",
    "    for train, test in outer_kv.split(X):\n",
    "        print(\"run\", i)\n",
    "        # loop over feature space using only training data and cross validator hyper param tuner\n",
    "        for f in feature_space:\n",
    "            cv.fit(X.loc[X.index[train], f], y[train])\n",
    "            # persist models to fit best on training set\n",
    "            inner_result.append([cv, cv.best_params_, f, cv.best_score_])\n",
    "            print(f)\n",
    "            print(cv.best_score_)\n",
    "        # persits and reset inner result for next fold\n",
    "        inner_df = pd.DataFrame(inner_result)\n",
    "        # reset inner result\n",
    "        inner_result = []\n",
    "        # receive best model of run to fit on test set\n",
    "        best_params_arg = inner_df.loc[:, 3].argmax()\n",
    "        best_params = inner_df.iloc[best_params_arg, :]\n",
    "        # fit best cv model hyper parameters on best feature set for that fold\n",
    "        bcv = best_params[0]\n",
    "        bfs = best_params[2]\n",
    "        bcv.fit(X.loc[X.index[train], bfs], y[train])\n",
    "\n",
    "        # get training/val and test scores\n",
    "        train_score = best_params[3]\n",
    "        test_score = bcv.score(X.loc[X.index[test], bfs], y[test])\n",
    "\n",
    "        # get predictions and retrieve nll of test folds\n",
    "        y_preds = cv.predict(X.loc[X.index[test], bfs])\n",
    "        mae = mean_absolute_error(y[test], y_preds)\n",
    "        nllval = negative_log_likelihood(y[test], y_preds)\n",
    "        mean_nll = np.mean(nllval)\n",
    "\n",
    "        outer_result.append([i, train_score, test_score, mae, bfs, best_params[1], y[test], nllval, mean_nll])\n",
    "        i += 1\n",
    "\n",
    "    testing = pd.DataFrame(outer_result)\n",
    "    testing.columns = ['fold_number', 'train_nmse', 'test_nmse', 'test_mae', 'best_feature_set', 'best_hyperparams',\n",
    "                       'test_set', 'nll', 'mean_nll']\n",
    "\n",
    "    return testing\n"
   ]
  },
  {
   "cell_type": "code",
   "execution_count": null,
   "metadata": {},
   "outputs": [],
   "source": []
  },
  {
   "cell_type": "code",
   "execution_count": null,
   "metadata": {},
   "outputs": [],
   "source": []
  }
 ],
 "metadata": {
  "kernelspec": {
   "display_name": "Python 3",
   "language": "python",
   "name": "python3"
  },
  "language_info": {
   "codemirror_mode": {
    "name": "ipython",
    "version": 3
   },
   "file_extension": ".py",
   "mimetype": "text/x-python",
   "name": "python",
   "nbconvert_exporter": "python",
   "pygments_lexer": "ipython3",
   "version": "3.6.8"
  }
 },
 "nbformat": 4,
 "nbformat_minor": 2
}
