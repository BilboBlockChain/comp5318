{
 "cells": [
  {
   "cell_type": "markdown",
   "source": [
    "# COMP5138 Assignment 1 - Sem 2 2019"
   ],
   "metadata": {
    "collapsed": false
   }
  },
  {
   "cell_type": "markdown",
   "source": [
    "# Softmax Classifier \n"
   ],
   "metadata": {
    "collapsed": false
   }
  },
  {
   "cell_type": "markdown",
   "source": [
    "## Source Data Input"
   ],
   "metadata": {
    "collapsed": false
   }
  },
  {
   "cell_type": "markdown",
   "source": [
    "This script assumes images_training.h5, labels_training.h5, images_testing.h5 and labels_testing_2000.h5 are in a child folder called 'Input' and that there is a child folder called 'Output' to generate the predicted label .h5 into."
   ],
   "metadata": {
    "collapsed": false
   }
  },
  {
   "cell_type": "code",
   "execution_count": null,
   "outputs": [],
   "source": [
    "import h5py\n",
    "import numpy as np\n",
    "import scipy as sp\n",
    "import time\n",
    "import pandas as pd\n",
    "\n",
    "\n",
    "with h5py.File('./Input/images_training.h5','r') as H:\n",
    "    data_train = np.copy(H['datatrain'])\n",
    "with h5py.File('./Input/labels_training.h5','r') as H:\n",
    "    label_train = np.copy(H['labeltrain'])\n",
    "\n",
    "# using H['datatest'], H['labeltest'] for test dataset.\n",
    "print(data_train.shape,label_train.shape)"
   ],
   "metadata": {
    "collapsed": false,
    "pycharm": {
     "name": "#%%\n"
    }
   }
  },
  {
   "cell_type": "markdown",
   "source": [
    "## Pre-Processing"
   ],
   "metadata": {
    "collapsed": false
   }
  },
  {
   "cell_type": "markdown",
   "source": [
    "First we seperate 5000 records from the train data set to use as a validation set. We verify that the last 5000 records of the training set are a representative sample of the 10 classes in Fashion MNIST"
   ],
   "metadata": {
    "collapsed": false
   }
  },
  {
   "cell_type": "code",
   "execution_count": null,
   "outputs": [],
   "source": [
    "unique, counts = np.unique(label_train[25000:,], return_counts=True)\n",
    "print(dict(zip(unique, counts))) #display counts of classes in candidate validation set\n",
    "\n",
    "#separate training and validation set \n",
    "data_val = data_train[25000:,]\n",
    "data_partial_train = data_train[:25000,]"
   ],
   "metadata": {
    "collapsed": false,
    "pycharm": {
     "name": "#%%\n"
    }
   }
  },
  {
   "cell_type": "markdown",
   "source": [
    "Next we perform the same train/val split on the labels training set. We then one hot encode the labels vector, changing its shape from size (samples,) to (samples, classes). "
   ],
   "metadata": {
    "collapsed": false
   }
  },
  {
   "cell_type": "code",
   "execution_count": null,
   "outputs": [],
   "source": [
    "#one hot encode y for softmax output \n",
    "def oneHot(y):\n",
    "    zeroesY = np.zeros((y.size, y.max() + 1)) #generate matrix of zeroes shape (samples, classes)\n",
    "    zeroesY[np.arange(y.size), y] = 1 #insert value 1 at label y's scalar class value\n",
    "    return zeroesY\n",
    "\n",
    "label_val = oneHot(label_train[25000:,]) \n",
    "label_partial_train = oneHot(label_train[: 25000,])\n",
    "\n",
    "print(data_partial_train.shape)"
   ],
   "metadata": {
    "collapsed": false,
    "pycharm": {
     "name": "#%%\n"
    }
   }
  },
  {
   "cell_type": "markdown",
   "source": [
    "We then reshape the train and val data tensors of shape (samples,28,28) to matrices of shape (samples, 784)"
   ],
   "metadata": {
    "collapsed": false
   }
  },
  {
   "cell_type": "code",
   "execution_count": null,
   "outputs": [],
   "source": [
    "print(data_partial_train.shape)\n",
    "\n",
    "\n",
    "def pre_proc_mat(A, dims = 784):\n",
    "    flat_A = A.reshape(A.shape[0],dims)\n",
    "    return flat_A\n",
    "\n",
    "\n",
    "data_partial_train = pre_proc_mat(data_partial_train)\n",
    "data_val = pre_proc_mat(data_val)\n",
    "\n",
    "print(data_partial_train.shape, data_val.shape)\n"
   ],
   "metadata": {
    "collapsed": false,
    "pycharm": {
     "name": "#%%\n"
    }
   }
  },
  {
   "cell_type": "markdown",
   "source": [
    "Following this we define the SVD fitting function. This takes in two parameters (data matrix, number of components), performs SVD decomposition and returns the right singular value V of shape (m,k), where m is the dimension of features and k is the choice of number of leading components from the SVD decomposition. When k < m dimension reduction has been performed:\n",
    "$$\n",
    "X_{n, m} V_{m, k}=U S V^{T} V=U_{n, k} S_{k, k}\n",
    "$$\n",
    "We perform this fitting procedure on the training set only (taking 150 components) and use the same V for the validation and test set."
   ],
   "metadata": {
    "collapsed": false
   }
  },
  {
   "cell_type": "code",
   "execution_count": null,
   "outputs": [],
   "source": [
    "def svd_fit(A, comps):   \n",
    "    U, s, Vt = np.linalg.svd(A, full_matrices=False)\n",
    "    #the matrix XV = UD therefore only need right singular value for decomposition\n",
    "    V_tilde = Vt.T[:,0:comps] #create parameter to pick number of leading components to take from V\n",
    "    return V_tilde\n",
    "\n",
    "v = svd_fit(flat_data_partial_train, 150)\n",
    "\n",
    "print(v.shape)\n",
    "\n",
    "#take dot product of train and val set with V to perform dimension reduction\n",
    "dim_partial_train = data_partial_train.dot(v)\n",
    "dim_data_val = data_val.dot(v)\n",
    "\n",
    "print( dim_partial_train.shape, dim_data_val.shape)"
   ],
   "metadata": {
    "collapsed": false,
    "pycharm": {
     "name": "#%%\n"
    }
   }
  },
  {
   "cell_type": "markdown",
   "source": [
    "## Classifier "
   ],
   "metadata": {
    "collapsed": false
   }
  },
  {
   "cell_type": "markdown",
   "source": [
    "We then move onto the building blocks of the softmax classifer. <br>\n",
    "<br>\n",
    "First we define the softmax function. it takes in the matrix X.W which has shape (samples,classes) and produces a matrix of shape (samples, classes) that sums to one per sample. "
   ],
   "metadata": {
    "collapsed": false
   }
  },
  {
   "cell_type": "code",
   "execution_count": null,
   "outputs": [],
   "source": [
    "def softmax(X): \n",
    "    eX = np.exp(X)\n",
    "    A = eX / eX.sum(axis = 1, keepdims = True) #here we sum along classes per sample and broadcast this as the denominator\n",
    "    return A"
   ],
   "metadata": {
    "collapsed": false,
    "pycharm": {
     "name": "#%%\n"
    }
   }
  },
  {
   "cell_type": "markdown",
   "source": [
    "Next we define the loss function taking in the paramaters (data matrix X, one hot encoded labels y, weight matrix W, regulariser penalty l): \n",
    "\n",
    "$$\n",
    "L(\\boldsymbol{w}, l)=-\\sum_{n} \\sum_{k} y_{n k} \\log \\left(\\sigma_{\\boldsymbol{w}}(\\boldsymbol{x})\\right)+\\frac{l}{2}\\|\\boldsymbol{w}\\|_{2}^{2}\n",
    "$$\n",
    "\n",
    "Where sigma denotes the softmax transformation. The sum over all samples and all classes is captured in np.sum() over the matrix with shape (samples,classes)"
   ],
   "metadata": {
    "collapsed": false
   }
  },
  {
   "cell_type": "code",
   "execution_count": null,
   "outputs": [],
   "source": [
    "#define softmax loss \n",
    "def softmax_loss(X, Y, W, l):\n",
    "    A = softmax(X.dot(W))\n",
    "    n = len(X)\n",
    "    snorm = np.linalg.norm(W)**2\n",
    "    return (-1/n) * np.sum(Y * np.log(A)) + (l/2)*snorm #np.sum over the matrix captures summing over both classes and samples"
   ],
   "metadata": {
    "collapsed": false,
    "pycharm": {
     "name": "#%%\n"
    }
   }
  },
  {
   "cell_type": "markdown",
   "source": [
    "We define the direct gradient of the above loss function by creating a function that takes in the same paramaters:\n",
    "$$\n",
    "\\frac{1}{n} \\sum_{n}\\left(\\sigma_{w}\\left(\\boldsymbol{x}_{n}\\right)-y_{n}\\right) \\boldsymbol{x}^{T}+l \\boldsymbol{w}\n",
    "$$\n",
    "\n",
    "The output takes the shape (features, classes), preparing to be minused from the identical shaped weight vector W.\n",
    "We slightly change the above formulation to compute the gradient over the whole data matrix with shape (samples, features). This requires a dot product with the matrix (A-Y) that has shape (samples, classes). "
   ],
   "metadata": {
    "collapsed": false
   }
  },
  {
   "cell_type": "code",
   "execution_count": null,
   "outputs": [],
   "source": [
    "#define softmax gradient \n",
    "def softmax_grad(X, Y, W, l):\n",
    "    A = softmax(X.dot(W))  \n",
    "    n = len(X) \n",
    "    return  (np.dot(X.T,(A - Y))/n) + l*W"
   ],
   "metadata": {
    "collapsed": false,
    "pycharm": {
     "name": "#%%\n"
    }
   }
  },
  {
   "cell_type": "markdown",
   "source": [
    "With the softmax loss and gradients defined we can now define the fitting procedure. Here we employ batch gradient descent. This procedure involves choosing a randomly sampled without replacement batch size iteratively to perform gradient operations on. This value times a learning rate alpha is then minused from a weight vector. This procedure is then repeated over the dataset for a certain number of epochs. \n",
    "\n",
    "This function takes in a data matrix, the one hot encoded labels, a vector to optimise, a ridge penalty l, a number of epochs to optmise over and a number of batches per epoch. "
   ],
   "metadata": {
    "collapsed": false
   }
  },
  {
   "cell_type": "code",
   "execution_count": null,
   "outputs": [],
   "source": [
    "\n",
    "def softmax_fit(X, Y, W, l, alpha, epoch,  batch):\n",
    "    n = len(X) #sample size\n",
    "    loss_hist = [softmax_loss(X, Y, W, l)] #generate intital loss history\n",
    "    steps = int(np.ceil(n/batch)) #define the number of steps per epoch, determined by how many batches fit in the sample\n",
    "    for ep in range(epoch): \n",
    "        p_ids = np.random.permutation(n) #generate a set of shuffled ids the size of the sample\n",
    "        p_X = X[p_ids] #apply this shuffled id to data matrix\n",
    "        p_Y = Y[p_ids] #apply this shuffled id to label matrix\n",
    "        for i in range(steps): \n",
    "            # get the i-th batch\n",
    "            X_batch = p_X[i:i + batch, :] #subset data matrix to size batch starting at step point i\n",
    "            Y_batch = p_Y[i:i + batch] #perform same operation to label matrix\n",
    "            W -=  alpha * softmax_grad(X_batch, Y_batch, W, l) #minus gradient for current w times learning rate from next w\n",
    "        loss_hist.append(softmax_loss(X, Y, W, l)) #persist loss over runs\n",
    "    return W, loss_hist"
   ],
   "metadata": {
    "collapsed": false,
    "pycharm": {
     "name": "#%%\n"
    }
   }
  },
  {
   "cell_type": "markdown",
   "source": [
    "Having defined the softmax fitting algorithm we now generate initial values for the weight vector with shape (features, classes) and run the fitting algorithm on our chosen hyperparameters"
   ],
   "metadata": {
    "collapsed": false
   }
  },
  {
   "cell_type": "code",
   "execution_count": null,
   "outputs": [],
   "source": [
    "W_rand = np.random.randn(dim_partial_train.shape[1], len(label_partial_train[1]))\n",
    "W, loss_hist = softmax_fit(dim_partial_train, \n",
    "                                      label_partial_train , \n",
    "                                      W_rand, \n",
    "                                      epoch = 1500, \n",
    "                                      batch = 1000,\n",
    "                                      alpha = 0.1, \n",
    "                                      l = 0)"
   ],
   "metadata": {
    "collapsed": false,
    "pycharm": {
     "name": "#%%\n"
    }
   }
  },
  {
   "cell_type": "markdown",
   "source": [
    "Now that we have trained the weight paramaters we can report the maximum probability from the softmax function to retrieve our model predictions. Accuracy is then assessed by summing where the condition for  predicted values and actual values is equivalent and dividing this by the total length of predictions"
   ],
   "metadata": {
    "collapsed": false
   }
  },
  {
   "cell_type": "code",
   "execution_count": null,
   "outputs": [],
   "source": [
    "#make predictions from softmax\n",
    "def pred(W, X):\n",
    "    A = softmax(X.dot(W))\n",
    "    return np.argmax(A, axis = 1)\n",
    "\n",
    "#accuracy\n",
    "def accuracy(y_pred,y):\n",
    "    results = pd.DataFrame({'label': y, 'answer': y == y_pred})\n",
    "    return results['answer'].sum()/len(results)\n"
   ],
   "metadata": {
    "collapsed": false,
    "pycharm": {
     "name": "#%%\n"
    }
   }
  },
  {
   "cell_type": "code",
   "execution_count": null,
   "outputs": [],
   "source": [
    "y_pre = pred(W,dim_data_val)\n",
    "val_result = accuracy(y_pre,label_train[25000:,])\n",
    "print(f'Validation set accuracy is {val_result}')"
   ],
   "metadata": {
    "collapsed": false,
    "pycharm": {
     "name": "#%%\n"
    }
   }
  },
  {
   "cell_type": "markdown",
   "source": [
    "## Generate Test Result"
   ],
   "metadata": {
    "collapsed": false
   }
  },
  {
   "cell_type": "markdown",
   "source": [
    "The preprocessing step can then be repeated to generate predictions for the test set:"
   ],
   "metadata": {
    "collapsed": false
   }
  },
  {
   "cell_type": "code",
   "execution_count": null,
   "outputs": [],
   "source": [
    "with h5py.File('./Input/images_testing.h5','r') as H:\n",
    "    data_test = np.copy(H['datatest'])\n",
    "with h5py.File('./Input/labels_testing_2000.h5','r') as H:\n",
    "    label_test = np.copy(H['labeltest'])"
   ],
   "metadata": {
    "collapsed": false,
    "pycharm": {
     "name": "#%%\n"
    }
   }
  },
  {
   "cell_type": "code",
   "execution_count": null,
   "outputs": [],
   "source": [
    "print(data_test.shape)\n",
    "\n",
    "#subset to labelled set\n",
    "data_test_sub = data_test[:2000,:]\n",
    "\n",
    "data_test_sub = pre_proc_mat(data_test_label)\n",
    "\n",
    "dim_data_test_sub = data_test_sub.dot(v)\n",
    "\n",
    "print(dim_data_test_sub.shape)"
   ],
   "metadata": {
    "collapsed": false,
    "pycharm": {
     "name": "#%%\n"
    }
   }
  },
  {
   "cell_type": "code",
   "execution_count": null,
   "outputs": [],
   "source": [
    "test_result = accuracy(pred(W, dim_data_test_sub ), label_test)\n",
    "\n",
    "print(f'Test set accuracy is {test_result}')"
   ],
   "metadata": {
    "collapsed": false,
    "pycharm": {
     "name": "#%%\n"
    }
   }
  },
  {
   "cell_type": "markdown",
   "source": [
    "## Generate Full Test Prediction"
   ],
   "metadata": {
    "collapsed": false
   }
  },
  {
   "cell_type": "code",
   "execution_count": null,
   "outputs": [],
   "source": [
    "with h5py.File('./Input/images_testing.h5','r') as H:\n",
    "    data_test = np.copy(H['datatest'])\n",
    "with h5py.File('./Input/labels_testing_2000.h5','r') as H:\n",
    "    label_test = np.copy(H['labeltest'])\n",
    "    \n",
    "print(data_test.shape)"
   ],
   "metadata": {
    "collapsed": false,
    "pycharm": {
     "name": "#%%\n"
    }
   }
  },
  {
   "cell_type": "code",
   "execution_count": null,
   "outputs": [],
   "source": [
    "data_test = pre_proc_mat(data_test)\n",
    "print(data_test.shape)\n",
    "\n",
    "dim_data_test = data_test.dot(v)\n",
    "\n",
    "output = pred(W, dim_data_test)\n",
    "\n",
    "output.shape"
   ],
   "metadata": {
    "collapsed": false,
    "pycharm": {
     "name": "#%%\n"
    }
   }
  },
  {
   "cell_type": "code",
   "execution_count": null,
   "outputs": [],
   "source": [
    "with h5py.File('./Output/predicted_labels.h5','w') as H:\n",
    "    H.create_dataset('output',data=output)"
   ],
   "metadata": {
    "collapsed": false,
    "pycharm": {
     "name": "#%%\n"
    }
   }
  },
  {
   "cell_type": "code",
   "execution_count": null,
   "outputs": [],
   "source": [],
   "metadata": {
    "collapsed": false,
    "pycharm": {
     "name": "#%%\n"
    }
   }
  }
 ],
 "metadata": {
  "kernelspec": {
   "display_name": "Python 3",
   "language": "python",
   "name": "python3"
  },
  "language_info": {
   "codemirror_mode": {
    "name": "ipython",
    "version": 3
   },
   "file_extension": ".py",
   "mimetype": "text/x-python",
   "name": "python",
   "nbconvert_exporter": "python",
   "pygments_lexer": "ipython3",
   "version": "3.7.2"
  },
  "pycharm": {
   "stem_cell": {
    "cell_type": "raw",
    "source": [],
    "metadata": {
     "collapsed": false
    }
   }
  }
 },
 "nbformat": 4,
 "nbformat_minor": 2
}